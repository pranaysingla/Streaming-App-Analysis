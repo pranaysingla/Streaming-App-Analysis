{
 "cells": [
  {
   "cell_type": "markdown",
   "metadata": {},
   "source": [
    "## Internet Customer Analytics - Team Project\n",
    "##### Team: Francisco Valle, Pranay Singla, Pedro Pablo Arrese"
   ]
  },
  {
   "cell_type": "code",
   "execution_count": 1,
   "metadata": {},
   "outputs": [],
   "source": [
    "import numpy as np\n",
    "import pandas as pd\n",
    "from app_store_scraper import AppStore # We will use this library to scrape the reviews for each app. \n",
    "import time\n",
    "\n",
    "import nltk\n",
    "from nltk.corpus import stopwords\n",
    "from nltk.tokenize import word_tokenize, sent_tokenize\n",
    "\n",
    "import os.path\n",
    "from gensim import corpora\n",
    "from gensim.models import LsiModel\n",
    "from nltk.tokenize import RegexpTokenizer\n",
    "from nltk.stem.porter import PorterStemmer\n",
    "from nltk.stem import WordNetLemmatizer\n",
    "\n",
    "from gensim.models.coherencemodel import CoherenceModel\n",
    "import matplotlib.pyplot as plt\n",
    "import random"
   ]
  },
  {
   "cell_type": "markdown",
   "metadata": {},
   "source": [
    "### Text Retrieval and Mining"
   ]
  },
  {
   "cell_type": "code",
   "execution_count": 37,
   "metadata": {},
   "outputs": [],
   "source": [
    "# Selecting the 5 streaming apps we will analyze\n",
    "# Sometimes the following code takes more time than usual to fetch all the reviews. Please, re run if it takes too long. Thank you."
   ]
  },
  {
   "cell_type": "code",
   "execution_count": 3,
   "metadata": {},
   "outputs": [
    {
     "name": "stderr",
     "output_type": "stream",
     "text": [
      "2020-10-28 22:21:15,530 [INFO] Base - Initialised: AppStore('us', 'peacock', 1508186374)\n",
      "2020-10-28 22:21:15,537 [INFO] Base - Ready to fetch reviews from: https://apps.apple.com/us/app/peacock/id1508186374\n"
     ]
    }
   ],
   "source": [
    "peacock = AppStore(country='us', app_name='peacock', app_id=1508186374)"
   ]
  },
  {
   "cell_type": "code",
   "execution_count": 4,
   "metadata": {},
   "outputs": [
    {
     "name": "stderr",
     "output_type": "stream",
     "text": [
      "2020-10-28 22:21:23,252 [INFO] Base - [id:1508186374] Fetched 40 reviews (40 fetched in total)\n",
      "2020-10-28 22:21:23,736 [INFO] Base - [id:1508186374] Fetched 100 reviews (100 fetched in total)\n",
      "2020-10-28 22:21:30,232 [INFO] Base - [id:1508186374] Fetched 20 reviews (120 fetched in total)\n",
      "2020-10-28 22:21:37,197 [INFO] Base - [id:1508186374] Fetched 80 reviews (180 fetched in total)\n",
      "2020-10-28 22:21:37,374 [INFO] Base - [id:1508186374] Fetched 100 reviews (200 fetched in total)\n",
      "2020-10-28 22:21:44,240 [INFO] Base - [id:1508186374] Fetched 60 reviews (260 fetched in total)\n",
      "2020-10-28 22:21:44,644 [INFO] Base - [id:1508186374] Fetched 100 reviews (300 fetched in total)\n",
      "2020-10-28 22:21:51,224 [INFO] Base - [id:1508186374] Fetched 20 reviews (320 fetched in total)\n",
      "2020-10-28 22:21:57,996 [INFO] Base - [id:1508186374] Fetched 80 reviews (380 fetched in total)\n",
      "2020-10-28 22:21:58,113 [INFO] Base - [id:1508186374] Fetched 100 reviews (400 fetched in total)\n",
      "2020-10-28 22:21:58,770 [INFO] Base - [id:1508186374] Fetched 100 reviews (500 fetched in total)\n",
      "2020-10-28 22:21:59,359 [INFO] Base - [id:1508186374] Fetched 100 reviews (600 fetched in total)\n",
      "2020-10-28 22:21:59,943 [INFO] Base - [id:1508186374] Fetched 100 reviews (700 fetched in total)\n",
      "2020-10-28 22:22:00,469 [INFO] Base - [id:1508186374] Fetched 100 reviews (800 fetched in total)\n",
      "2020-10-28 22:22:00,952 [INFO] Base - [id:1508186374] Fetched 100 reviews (900 fetched in total)\n",
      "2020-10-28 22:22:01,426 [INFO] Base - [id:1508186374] Fetched 100 reviews (1000 fetched in total)\n"
     ]
    }
   ],
   "source": [
    "# Peacock\n",
    "while len(peacock.reviews) < 1000:\n",
    "    peacock.review(how_many=100)\n",
    "#     time.sleep(5)"
   ]
  },
  {
   "cell_type": "code",
   "execution_count": 5,
   "metadata": {},
   "outputs": [],
   "source": [
    "peacock_df = pd.DataFrame(peacock.reviews)"
   ]
  },
  {
   "cell_type": "code",
   "execution_count": 6,
   "metadata": {},
   "outputs": [],
   "source": [
    "del peacock_df['developerResponse']\n",
    "peacock_df.drop_duplicates(subset='review', inplace = True)\n",
    "peacock_df = peacock_df.iloc[:1000,:]"
   ]
  },
  {
   "cell_type": "code",
   "execution_count": 7,
   "metadata": {},
   "outputs": [],
   "source": [
    "peacock_df = peacock_df[['userName','review','rating']]"
   ]
  },
  {
   "cell_type": "code",
   "execution_count": 8,
   "metadata": {},
   "outputs": [
    {
     "data": {
      "text/html": [
       "<div>\n",
       "<style scoped>\n",
       "    .dataframe tbody tr th:only-of-type {\n",
       "        vertical-align: middle;\n",
       "    }\n",
       "\n",
       "    .dataframe tbody tr th {\n",
       "        vertical-align: top;\n",
       "    }\n",
       "\n",
       "    .dataframe thead th {\n",
       "        text-align: right;\n",
       "    }\n",
       "</style>\n",
       "<table border=\"1\" class=\"dataframe\">\n",
       "  <thead>\n",
       "    <tr style=\"text-align: right;\">\n",
       "      <th></th>\n",
       "      <th>userName</th>\n",
       "      <th>review</th>\n",
       "      <th>rating</th>\n",
       "    </tr>\n",
       "  </thead>\n",
       "  <tbody>\n",
       "    <tr>\n",
       "      <th>0</th>\n",
       "      <td>8432789</td>\n",
       "      <td>I am a day 1 user, waited months for this app ...</td>\n",
       "      <td>3</td>\n",
       "    </tr>\n",
       "    <tr>\n",
       "      <th>1</th>\n",
       "      <td>Hän C.</td>\n",
       "      <td>First off, I do love the peacock service - I a...</td>\n",
       "      <td>3</td>\n",
       "    </tr>\n",
       "    <tr>\n",
       "      <th>2</th>\n",
       "      <td>kevintstephens</td>\n",
       "      <td>The streaming service itself is decent, but th...</td>\n",
       "      <td>1</td>\n",
       "    </tr>\n",
       "    <tr>\n",
       "      <th>3</th>\n",
       "      <td>jbram63</td>\n",
       "      <td>The streaming is okay. Haven’t had issues. I h...</td>\n",
       "      <td>1</td>\n",
       "    </tr>\n",
       "    <tr>\n",
       "      <th>4</th>\n",
       "      <td>Spiritbob67</td>\n",
       "      <td>Ok so is 2020 and you create a streaming app t...</td>\n",
       "      <td>1</td>\n",
       "    </tr>\n",
       "  </tbody>\n",
       "</table>\n",
       "</div>"
      ],
      "text/plain": [
       "         userName                                             review  rating\n",
       "0         8432789  I am a day 1 user, waited months for this app ...       3\n",
       "1          Hän C.  First off, I do love the peacock service - I a...       3\n",
       "2  kevintstephens  The streaming service itself is decent, but th...       1\n",
       "3         jbram63  The streaming is okay. Haven’t had issues. I h...       1\n",
       "4     Spiritbob67  Ok so is 2020 and you create a streaming app t...       1"
      ]
     },
     "execution_count": 8,
     "metadata": {},
     "output_type": "execute_result"
    }
   ],
   "source": [
    "peacock_df.head()"
   ]
  },
  {
   "cell_type": "code",
   "execution_count": 9,
   "metadata": {
    "scrolled": false
   },
   "outputs": [
    {
     "name": "stderr",
     "output_type": "stream",
     "text": [
      "2020-10-28 22:22:21,903 [INFO] Base - Initialised: AppStore('us', 'hbomax', 971265422)\n",
      "2020-10-28 22:22:21,907 [INFO] Base - Ready to fetch reviews from: https://apps.apple.com/us/app/hbomax/id971265422\n"
     ]
    }
   ],
   "source": [
    "hbomax = AppStore(country='us', app_name='hbomax', app_id=971265422)"
   ]
  },
  {
   "cell_type": "code",
   "execution_count": 10,
   "metadata": {},
   "outputs": [
    {
     "name": "stderr",
     "output_type": "stream",
     "text": [
      "2020-10-28 22:22:23,612 [INFO] Base - [id:971265422] Fetched 100 reviews (100 fetched in total)\n",
      "2020-10-28 22:22:24,335 [INFO] Base - [id:971265422] Fetched 100 reviews (200 fetched in total)\n",
      "2020-10-28 22:22:24,978 [INFO] Base - [id:971265422] Fetched 100 reviews (300 fetched in total)\n",
      "2020-10-28 22:22:25,473 [INFO] Base - [id:971265422] Fetched 100 reviews (400 fetched in total)\n",
      "2020-10-28 22:22:26,163 [INFO] Base - [id:971265422] Fetched 100 reviews (500 fetched in total)\n",
      "2020-10-28 22:22:26,823 [INFO] Base - [id:971265422] Fetched 100 reviews (600 fetched in total)\n",
      "2020-10-28 22:22:27,635 [INFO] Base - [id:971265422] Fetched 100 reviews (700 fetched in total)\n",
      "2020-10-28 22:22:28,287 [INFO] Base - [id:971265422] Fetched 100 reviews (800 fetched in total)\n",
      "2020-10-28 22:22:28,972 [INFO] Base - [id:971265422] Fetched 100 reviews (900 fetched in total)\n",
      "2020-10-28 22:22:29,586 [INFO] Base - [id:971265422] Fetched 100 reviews (1000 fetched in total)\n"
     ]
    }
   ],
   "source": [
    "# HBO Max\n",
    "while len(hbomax.reviews) < 1000:\n",
    "    hbomax.review(how_many=100)\n",
    "#     time.sleep(5)"
   ]
  },
  {
   "cell_type": "code",
   "execution_count": 11,
   "metadata": {},
   "outputs": [],
   "source": [
    "hbomax_df = pd.DataFrame(hbomax.reviews)    "
   ]
  },
  {
   "cell_type": "code",
   "execution_count": 12,
   "metadata": {},
   "outputs": [],
   "source": [
    "del hbomax_df['developerResponse']\n",
    "hbomax_df.drop_duplicates(subset = 'review',inplace = True)\n",
    "hbomax_df = hbomax_df.iloc[:1000,:]\n",
    "hbomax_df = hbomax_df[['userName','review','rating']]"
   ]
  },
  {
   "cell_type": "code",
   "execution_count": 13,
   "metadata": {},
   "outputs": [
    {
     "data": {
      "text/html": [
       "<div>\n",
       "<style scoped>\n",
       "    .dataframe tbody tr th:only-of-type {\n",
       "        vertical-align: middle;\n",
       "    }\n",
       "\n",
       "    .dataframe tbody tr th {\n",
       "        vertical-align: top;\n",
       "    }\n",
       "\n",
       "    .dataframe thead th {\n",
       "        text-align: right;\n",
       "    }\n",
       "</style>\n",
       "<table border=\"1\" class=\"dataframe\">\n",
       "  <thead>\n",
       "    <tr style=\"text-align: right;\">\n",
       "      <th></th>\n",
       "      <th>userName</th>\n",
       "      <th>review</th>\n",
       "      <th>rating</th>\n",
       "    </tr>\n",
       "  </thead>\n",
       "  <tbody>\n",
       "    <tr>\n",
       "      <th>0</th>\n",
       "      <td>Goldentoast01</td>\n",
       "      <td>Sorry HBO I really love your shows, but here a...</td>\n",
       "      <td>3</td>\n",
       "    </tr>\n",
       "    <tr>\n",
       "      <th>1</th>\n",
       "      <td>newb910</td>\n",
       "      <td>I love the content they have. Friends, Fresh P...</td>\n",
       "      <td>2</td>\n",
       "    </tr>\n",
       "    <tr>\n",
       "      <th>2</th>\n",
       "      <td>S.C. Watts</td>\n",
       "      <td>I’ve only had the app for a couple of weeks bu...</td>\n",
       "      <td>2</td>\n",
       "    </tr>\n",
       "    <tr>\n",
       "      <th>3</th>\n",
       "      <td>Isome2000</td>\n",
       "      <td>I love the idea of HBO streaming service. Sinc...</td>\n",
       "      <td>2</td>\n",
       "    </tr>\n",
       "    <tr>\n",
       "      <th>4</th>\n",
       "      <td>Madelinebelton292016</td>\n",
       "      <td>The app seems to work for the most part, but I...</td>\n",
       "      <td>3</td>\n",
       "    </tr>\n",
       "  </tbody>\n",
       "</table>\n",
       "</div>"
      ],
      "text/plain": [
       "               userName                                             review  \\\n",
       "0         Goldentoast01  Sorry HBO I really love your shows, but here a...   \n",
       "1               newb910  I love the content they have. Friends, Fresh P...   \n",
       "2            S.C. Watts  I’ve only had the app for a couple of weeks bu...   \n",
       "3             Isome2000  I love the idea of HBO streaming service. Sinc...   \n",
       "4  Madelinebelton292016  The app seems to work for the most part, but I...   \n",
       "\n",
       "   rating  \n",
       "0       3  \n",
       "1       2  \n",
       "2       2  \n",
       "3       2  \n",
       "4       3  "
      ]
     },
     "execution_count": 13,
     "metadata": {},
     "output_type": "execute_result"
    }
   ],
   "source": [
    "hbomax_df.head()"
   ]
  },
  {
   "cell_type": "code",
   "execution_count": 14,
   "metadata": {},
   "outputs": [
    {
     "name": "stderr",
     "output_type": "stream",
     "text": [
      "2020-10-28 22:22:36,210 [INFO] Base - Initialised: AppStore('us', 'hulu', 376510438)\n",
      "2020-10-28 22:22:36,212 [INFO] Base - Ready to fetch reviews from: https://apps.apple.com/us/app/hulu/id376510438\n"
     ]
    }
   ],
   "source": [
    "hulu = AppStore(country='us', app_name='hulu', app_id=376510438)"
   ]
  },
  {
   "cell_type": "code",
   "execution_count": 15,
   "metadata": {},
   "outputs": [
    {
     "name": "stderr",
     "output_type": "stream",
     "text": [
      "2020-10-28 22:22:37,909 [INFO] Base - [id:376510438] Fetched 100 reviews (100 fetched in total)\n",
      "2020-10-28 22:22:38,680 [INFO] Base - [id:376510438] Fetched 100 reviews (200 fetched in total)\n",
      "2020-10-28 22:22:39,386 [INFO] Base - [id:376510438] Fetched 100 reviews (300 fetched in total)\n",
      "2020-10-28 22:22:40,230 [INFO] Base - [id:376510438] Fetched 100 reviews (400 fetched in total)\n",
      "2020-10-28 22:22:40,743 [INFO] Base - [id:376510438] Fetched 100 reviews (500 fetched in total)\n",
      "2020-10-28 22:22:41,332 [INFO] Base - [id:376510438] Fetched 100 reviews (600 fetched in total)\n",
      "2020-10-28 22:22:41,859 [INFO] Base - [id:376510438] Fetched 100 reviews (700 fetched in total)\n",
      "2020-10-28 22:22:48,331 [INFO] Base - [id:376510438] Fetched 20 reviews (720 fetched in total)\n",
      "2020-10-28 22:22:48,952 [INFO] Base - [id:376510438] Fetched 100 reviews (800 fetched in total)\n",
      "2020-10-28 22:22:49,587 [INFO] Base - [id:376510438] Fetched 100 reviews (900 fetched in total)\n",
      "2020-10-28 22:22:50,289 [INFO] Base - [id:376510438] Fetched 100 reviews (1000 fetched in total)\n"
     ]
    }
   ],
   "source": [
    "# Hulu\n",
    "while len(hulu.reviews) < 1000:\n",
    "    hulu.review(how_many=100)\n",
    "#     time.sleep(5)"
   ]
  },
  {
   "cell_type": "code",
   "execution_count": 16,
   "metadata": {},
   "outputs": [],
   "source": [
    "hulu_df = pd.DataFrame(hulu.reviews)    "
   ]
  },
  {
   "cell_type": "code",
   "execution_count": 17,
   "metadata": {},
   "outputs": [],
   "source": [
    "del hulu_df['developerResponse']\n",
    "hulu_df.drop_duplicates(subset='review', inplace = True)\n",
    "hulu_df = hulu_df.iloc[:1000,:]"
   ]
  },
  {
   "cell_type": "code",
   "execution_count": 18,
   "metadata": {},
   "outputs": [],
   "source": [
    "hulu_df = hulu_df[['userName','review','rating']]"
   ]
  },
  {
   "cell_type": "code",
   "execution_count": 19,
   "metadata": {},
   "outputs": [
    {
     "data": {
      "text/html": [
       "<div>\n",
       "<style scoped>\n",
       "    .dataframe tbody tr th:only-of-type {\n",
       "        vertical-align: middle;\n",
       "    }\n",
       "\n",
       "    .dataframe tbody tr th {\n",
       "        vertical-align: top;\n",
       "    }\n",
       "\n",
       "    .dataframe thead th {\n",
       "        text-align: right;\n",
       "    }\n",
       "</style>\n",
       "<table border=\"1\" class=\"dataframe\">\n",
       "  <thead>\n",
       "    <tr style=\"text-align: right;\">\n",
       "      <th></th>\n",
       "      <th>userName</th>\n",
       "      <th>review</th>\n",
       "      <th>rating</th>\n",
       "    </tr>\n",
       "  </thead>\n",
       "  <tbody>\n",
       "    <tr>\n",
       "      <th>0</th>\n",
       "      <td>Great Speller</td>\n",
       "      <td>Omg, not political ads!\\nI am a brand-new cust...</td>\n",
       "      <td>4</td>\n",
       "    </tr>\n",
       "    <tr>\n",
       "      <th>1</th>\n",
       "      <td>wildbellelover</td>\n",
       "      <td>as a new user i of course decided to go with t...</td>\n",
       "      <td>1</td>\n",
       "    </tr>\n",
       "    <tr>\n",
       "      <th>2</th>\n",
       "      <td>_tinydancer_</td>\n",
       "      <td>You would think for app with this many subscri...</td>\n",
       "      <td>2</td>\n",
       "    </tr>\n",
       "    <tr>\n",
       "      <th>3</th>\n",
       "      <td>Poshafied!</td>\n",
       "      <td>At first I loved this app then after using it ...</td>\n",
       "      <td>2</td>\n",
       "    </tr>\n",
       "    <tr>\n",
       "      <th>4</th>\n",
       "      <td>Alise Leonardo</td>\n",
       "      <td>Buffering and Glitches•\\n\\nThe app has a nice ...</td>\n",
       "      <td>2</td>\n",
       "    </tr>\n",
       "  </tbody>\n",
       "</table>\n",
       "</div>"
      ],
      "text/plain": [
       "         userName                                             review  rating\n",
       "0   Great Speller  Omg, not political ads!\\nI am a brand-new cust...       4\n",
       "1  wildbellelover  as a new user i of course decided to go with t...       1\n",
       "2    _tinydancer_  You would think for app with this many subscri...       2\n",
       "3      Poshafied!  At first I loved this app then after using it ...       2\n",
       "4  Alise Leonardo  Buffering and Glitches•\\n\\nThe app has a nice ...       2"
      ]
     },
     "execution_count": 19,
     "metadata": {},
     "output_type": "execute_result"
    }
   ],
   "source": [
    "hulu_df.head()"
   ]
  },
  {
   "cell_type": "code",
   "execution_count": 20,
   "metadata": {},
   "outputs": [
    {
     "name": "stderr",
     "output_type": "stream",
     "text": [
      "2020-10-28 22:22:56,695 [INFO] Base - Initialised: AppStore('us', 'netflix', 363590051)\n",
      "2020-10-28 22:22:56,697 [INFO] Base - Ready to fetch reviews from: https://apps.apple.com/us/app/netflix/id363590051\n"
     ]
    }
   ],
   "source": [
    "netflix = AppStore(country='us', app_name='netflix', app_id=363590051)"
   ]
  },
  {
   "cell_type": "code",
   "execution_count": 21,
   "metadata": {},
   "outputs": [
    {
     "name": "stderr",
     "output_type": "stream",
     "text": [
      "2020-10-28 22:22:59,856 [INFO] Base - [id:363590051] Fetched 100 reviews (100 fetched in total)\n",
      "2020-10-28 22:23:00,988 [INFO] Base - [id:363590051] Fetched 100 reviews (200 fetched in total)\n",
      "2020-10-28 22:23:01,745 [INFO] Base - [id:363590051] Fetched 100 reviews (300 fetched in total)\n",
      "2020-10-28 22:23:02,469 [INFO] Base - [id:363590051] Fetched 100 reviews (400 fetched in total)\n",
      "2020-10-28 22:23:09,269 [INFO] Base - [id:363590051] Fetched 40 reviews (440 fetched in total)\n",
      "2020-10-28 22:23:09,818 [INFO] Base - [id:363590051] Fetched 100 reviews (500 fetched in total)\n",
      "2020-10-28 22:23:10,747 [INFO] Base - [id:363590051] Fetched 100 reviews (600 fetched in total)\n",
      "2020-10-28 22:23:12,013 [INFO] Base - [id:363590051] Fetched 100 reviews (700 fetched in total)\n",
      "2020-10-28 22:23:12,562 [INFO] Base - [id:363590051] Fetched 100 reviews (800 fetched in total)\n",
      "2020-10-28 22:23:19,272 [INFO] Base - [id:363590051] Fetched 80 reviews (880 fetched in total)\n",
      "2020-10-28 22:23:19,403 [INFO] Base - [id:363590051] Fetched 100 reviews (900 fetched in total)\n",
      "2020-10-28 22:23:38,318 [INFO] Base - [id:363590051] Fetched 60 reviews (960 fetched in total)\n",
      "2020-10-28 22:23:38,841 [INFO] Base - [id:363590051] Fetched 100 reviews (1000 fetched in total)\n"
     ]
    }
   ],
   "source": [
    "# Netflix\n",
    "while len(netflix.reviews) < 1000:\n",
    "    netflix.review(how_many=100)\n",
    "#     time.sleep(5)"
   ]
  },
  {
   "cell_type": "code",
   "execution_count": 22,
   "metadata": {},
   "outputs": [],
   "source": [
    "netflix_df = pd.DataFrame(netflix.reviews)"
   ]
  },
  {
   "cell_type": "code",
   "execution_count": 23,
   "metadata": {},
   "outputs": [],
   "source": [
    "netflix_df.drop_duplicates(subset='review', inplace = True)\n",
    "netflix_df = netflix_df.iloc[:1000,:]"
   ]
  },
  {
   "cell_type": "code",
   "execution_count": 24,
   "metadata": {},
   "outputs": [],
   "source": [
    "netflix_df = netflix_df[['userName','review','rating']]"
   ]
  },
  {
   "cell_type": "code",
   "execution_count": 25,
   "metadata": {},
   "outputs": [
    {
     "data": {
      "text/html": [
       "<div>\n",
       "<style scoped>\n",
       "    .dataframe tbody tr th:only-of-type {\n",
       "        vertical-align: middle;\n",
       "    }\n",
       "\n",
       "    .dataframe tbody tr th {\n",
       "        vertical-align: top;\n",
       "    }\n",
       "\n",
       "    .dataframe thead th {\n",
       "        text-align: right;\n",
       "    }\n",
       "</style>\n",
       "<table border=\"1\" class=\"dataframe\">\n",
       "  <thead>\n",
       "    <tr style=\"text-align: right;\">\n",
       "      <th></th>\n",
       "      <th>userName</th>\n",
       "      <th>review</th>\n",
       "      <th>rating</th>\n",
       "    </tr>\n",
       "  </thead>\n",
       "  <tbody>\n",
       "    <tr>\n",
       "      <th>0</th>\n",
       "      <td>🌪☄️🔥FireStar🔥☄️🌪</td>\n",
       "      <td>Let me start off by saying that this is an ama...</td>\n",
       "      <td>4</td>\n",
       "    </tr>\n",
       "    <tr>\n",
       "      <th>1</th>\n",
       "      <td>subways watching</td>\n",
       "      <td>Netflix is a GREAT app, I’ve probably been usi...</td>\n",
       "      <td>3</td>\n",
       "    </tr>\n",
       "    <tr>\n",
       "      <th>2</th>\n",
       "      <td>Cinder2014</td>\n",
       "      <td>Alright, Netflix is awesome! It’s so easy to s...</td>\n",
       "      <td>3</td>\n",
       "    </tr>\n",
       "    <tr>\n",
       "      <th>3</th>\n",
       "      <td>Mos Lyke</td>\n",
       "      <td>Please remove audio description feature by def...</td>\n",
       "      <td>4</td>\n",
       "    </tr>\n",
       "    <tr>\n",
       "      <th>4</th>\n",
       "      <td>kro817</td>\n",
       "      <td>I love Netflix and admittedly have things stre...</td>\n",
       "      <td>3</td>\n",
       "    </tr>\n",
       "  </tbody>\n",
       "</table>\n",
       "</div>"
      ],
      "text/plain": [
       "           userName                                             review  rating\n",
       "0  🌪☄️🔥FireStar🔥☄️🌪  Let me start off by saying that this is an ama...       4\n",
       "1  subways watching  Netflix is a GREAT app, I’ve probably been usi...       3\n",
       "2        Cinder2014  Alright, Netflix is awesome! It’s so easy to s...       3\n",
       "3          Mos Lyke  Please remove audio description feature by def...       4\n",
       "4            kro817  I love Netflix and admittedly have things stre...       3"
      ]
     },
     "execution_count": 25,
     "metadata": {},
     "output_type": "execute_result"
    }
   ],
   "source": [
    "netflix_df.head()"
   ]
  },
  {
   "cell_type": "code",
   "execution_count": 29,
   "metadata": {},
   "outputs": [
    {
     "name": "stderr",
     "output_type": "stream",
     "text": [
      "2020-10-28 22:24:12,847 [INFO] Base - Initialised: AppStore('us', 'disneyplus', 1446075923)\n",
      "2020-10-28 22:24:12,848 [INFO] Base - Ready to fetch reviews from: https://apps.apple.com/us/app/disneyplus/id1446075923\n"
     ]
    }
   ],
   "source": [
    "disneyplus = AppStore(country='us', app_name='disneyplus', app_id=1446075923)"
   ]
  },
  {
   "cell_type": "code",
   "execution_count": 30,
   "metadata": {},
   "outputs": [
    {
     "name": "stderr",
     "output_type": "stream",
     "text": [
      "2020-10-28 22:24:20,222 [INFO] Base - [id:1446075923] Fetched 40 reviews (40 fetched in total)\n",
      "2020-10-28 22:24:20,610 [INFO] Base - [id:1446075923] Fetched 100 reviews (100 fetched in total)\n",
      "2020-10-28 22:24:39,140 [INFO] Base - [id:1446075923] Fetched 20 reviews (120 fetched in total)\n",
      "2020-10-28 22:24:39,930 [INFO] Base - [id:1446075923] Fetched 100 reviews (200 fetched in total)\n",
      "2020-10-28 22:24:40,893 [INFO] Base - [id:1446075923] Fetched 100 reviews (300 fetched in total)\n",
      "2020-10-28 22:24:42,180 [INFO] Base - [id:1446075923] Fetched 100 reviews (400 fetched in total)\n",
      "2020-10-28 22:24:43,472 [INFO] Base - [id:1446075923] Fetched 100 reviews (500 fetched in total)\n",
      "2020-10-28 22:25:02,090 [ERROR] Base - Something went wrong: HTTPSConnectionPool(host='amp-api.apps.apple.com', port=443): Max retries exceeded with url: /v1/catalog/us/apps/1446075923/reviews?l=en-GB&offset=520&limit=20&platform=web&additionalPlatforms=appletv%2Cipad%2Ciphone%2Cmac (Caused by ResponseError('too many 429 error responses'))\n",
      "2020-10-28 22:25:02,093 [INFO] Base - [id:1446075923] Fetched 20 reviews (520 fetched in total)\n",
      "2020-10-28 22:25:21,232 [INFO] Base - [id:1446075923] Fetched 80 reviews (600 fetched in total)\n",
      "2020-10-28 22:25:21,457 [INFO] Base - [id:1446075923] Fetched 100 reviews (620 fetched in total)\n",
      "2020-10-28 22:25:22,456 [INFO] Base - [id:1446075923] Fetched 100 reviews (720 fetched in total)\n",
      "2020-10-28 22:25:29,249 [INFO] Base - [id:1446075923] Fetched 40 reviews (760 fetched in total)\n",
      "2020-10-28 22:25:29,763 [INFO] Base - [id:1446075923] Fetched 100 reviews (820 fetched in total)\n",
      "2020-10-28 22:25:30,593 [INFO] Base - [id:1446075923] Fetched 100 reviews (920 fetched in total)\n",
      "2020-10-28 22:25:31,476 [INFO] Base - [id:1446075923] Fetched 100 reviews (1020 fetched in total)\n"
     ]
    }
   ],
   "source": [
    "# DisneyPlus\n",
    "while len(disneyplus.reviews) < 1000:\n",
    "    disneyplus.review(how_many=100)\n",
    "#     time.sleep(5)"
   ]
  },
  {
   "cell_type": "code",
   "execution_count": 31,
   "metadata": {},
   "outputs": [],
   "source": [
    "disneyplus_df = pd.DataFrame(disneyplus.reviews)"
   ]
  },
  {
   "cell_type": "code",
   "execution_count": 32,
   "metadata": {},
   "outputs": [],
   "source": [
    "del disneyplus_df['developerResponse']\n",
    "disneyplus_df.drop_duplicates(subset='review', inplace = True)\n",
    "disneyplus_df = disneyplus_df.iloc[:1000,:]"
   ]
  },
  {
   "cell_type": "code",
   "execution_count": 33,
   "metadata": {},
   "outputs": [],
   "source": [
    "disneyplus_df = disneyplus_df[['userName','review','rating']]"
   ]
  },
  {
   "cell_type": "code",
   "execution_count": 34,
   "metadata": {},
   "outputs": [
    {
     "data": {
      "text/html": [
       "<div>\n",
       "<style scoped>\n",
       "    .dataframe tbody tr th:only-of-type {\n",
       "        vertical-align: middle;\n",
       "    }\n",
       "\n",
       "    .dataframe tbody tr th {\n",
       "        vertical-align: top;\n",
       "    }\n",
       "\n",
       "    .dataframe thead th {\n",
       "        text-align: right;\n",
       "    }\n",
       "</style>\n",
       "<table border=\"1\" class=\"dataframe\">\n",
       "  <thead>\n",
       "    <tr style=\"text-align: right;\">\n",
       "      <th></th>\n",
       "      <th>userName</th>\n",
       "      <th>review</th>\n",
       "      <th>rating</th>\n",
       "    </tr>\n",
       "  </thead>\n",
       "  <tbody>\n",
       "    <tr>\n",
       "      <th>0</th>\n",
       "      <td>=emuJuice=</td>\n",
       "      <td>My entire family has been enjoying the variety...</td>\n",
       "      <td>4</td>\n",
       "    </tr>\n",
       "    <tr>\n",
       "      <th>1</th>\n",
       "      <td>avabella</td>\n",
       "      <td>Disney+ is a pretty good app especially for ha...</td>\n",
       "      <td>3</td>\n",
       "    </tr>\n",
       "    <tr>\n",
       "      <th>2</th>\n",
       "      <td>Jordan Boisley</td>\n",
       "      <td>The have a lot of great stuff in the app but t...</td>\n",
       "      <td>3</td>\n",
       "    </tr>\n",
       "    <tr>\n",
       "      <th>3</th>\n",
       "      <td>Rockport, Maine</td>\n",
       "      <td>I waited for a while before subscribing from D...</td>\n",
       "      <td>4</td>\n",
       "    </tr>\n",
       "    <tr>\n",
       "      <th>4</th>\n",
       "      <td>troicole</td>\n",
       "      <td>I love how they have ALL the Disney Chanel Ori...</td>\n",
       "      <td>4</td>\n",
       "    </tr>\n",
       "  </tbody>\n",
       "</table>\n",
       "</div>"
      ],
      "text/plain": [
       "          userName                                             review  rating\n",
       "0       =emuJuice=  My entire family has been enjoying the variety...       4\n",
       "1         avabella  Disney+ is a pretty good app especially for ha...       3\n",
       "2   Jordan Boisley  The have a lot of great stuff in the app but t...       3\n",
       "3  Rockport, Maine  I waited for a while before subscribing from D...       4\n",
       "4         troicole  I love how they have ALL the Disney Chanel Ori...       4"
      ]
     },
     "execution_count": 34,
     "metadata": {},
     "output_type": "execute_result"
    }
   ],
   "source": [
    "disneyplus_df.head()"
   ]
  },
  {
   "cell_type": "code",
   "execution_count": 35,
   "metadata": {},
   "outputs": [],
   "source": [
    "# Creating a dictionary for each app. Key: username, Value: [review, rating]\n",
    "hbomax_dict = hbomax_df.set_index('userName').T.to_dict('list')\n",
    "hulu_dict = hulu_df.set_index('userName').T.to_dict('list')\n",
    "netflix_dict = netflix_df.set_index('userName').T.to_dict('list')\n",
    "disneyplus_dict = disneyplus_df.set_index('userName').T.to_dict('list')\n",
    "peacock_dict = peacock_df.set_index('userName').T.to_dict('list')"
   ]
  },
  {
   "cell_type": "code",
   "execution_count": 36,
   "metadata": {},
   "outputs": [],
   "source": [
    "# Creating a dictionary of dictionaries\n",
    "full_dict = {}\n",
    "full_dict['hbomax'] = hbomax_dict\n",
    "full_dict['hulu'] = hulu_dict\n",
    "full_dict['netflix'] = netflix_dict\n",
    "full_dict['disneyplus'] = disneyplus_dict\n",
    "full_dict['peacock'] = peacock_dict"
   ]
  },
  {
   "cell_type": "code",
   "execution_count": null,
   "metadata": {},
   "outputs": [],
   "source": [
    "# In case we want to export dictionary to csv file\n",
    "# full_dict_df = pd.DataFrame(full_dict)\n",
    "# full_dict_df.to_csv('full_dict_df.csv', index = False)"
   ]
  },
  {
   "cell_type": "code",
   "execution_count": null,
   "metadata": {},
   "outputs": [],
   "source": [
    "# df = pd.read_csv(\"full_dict_df.csv\")"
   ]
  },
  {
   "cell_type": "markdown",
   "metadata": {},
   "source": [
    "### Text Analysis"
   ]
  },
  {
   "cell_type": "markdown",
   "metadata": {},
   "source": [
    "##### 01 Data Cleaning and Lemmatization"
   ]
  },
  {
   "cell_type": "code",
   "execution_count": 38,
   "metadata": {},
   "outputs": [],
   "source": [
    "# Removing the ratings from the dictionary and lowering the case for all the reviews"
   ]
  },
  {
   "cell_type": "code",
   "execution_count": 39,
   "metadata": {},
   "outputs": [],
   "source": [
    "hbomax_clean = {}"
   ]
  },
  {
   "cell_type": "code",
   "execution_count": 40,
   "metadata": {},
   "outputs": [],
   "source": [
    "for key, value in hbomax_dict.items():\n",
    "    hbomax_clean[key] = value[0].lower()"
   ]
  },
  {
   "cell_type": "code",
   "execution_count": 41,
   "metadata": {},
   "outputs": [],
   "source": [
    "hulu_clean = {}"
   ]
  },
  {
   "cell_type": "code",
   "execution_count": 42,
   "metadata": {},
   "outputs": [],
   "source": [
    "for key, value in hulu_dict.items():\n",
    "    hulu_clean[key] = value[0].lower()"
   ]
  },
  {
   "cell_type": "code",
   "execution_count": 43,
   "metadata": {},
   "outputs": [],
   "source": [
    "netflix_clean = {}"
   ]
  },
  {
   "cell_type": "code",
   "execution_count": 44,
   "metadata": {},
   "outputs": [],
   "source": [
    "for key, value in netflix_dict.items():\n",
    "    netflix_clean[key] = value[0].lower()"
   ]
  },
  {
   "cell_type": "code",
   "execution_count": 45,
   "metadata": {},
   "outputs": [],
   "source": [
    "disneyplus_clean = {}"
   ]
  },
  {
   "cell_type": "code",
   "execution_count": 46,
   "metadata": {},
   "outputs": [],
   "source": [
    "for key, value in disneyplus_dict.items():\n",
    "    disneyplus_clean[key] = value[0].lower()"
   ]
  },
  {
   "cell_type": "code",
   "execution_count": 47,
   "metadata": {},
   "outputs": [],
   "source": [
    "peacock_clean = {}"
   ]
  },
  {
   "cell_type": "code",
   "execution_count": 48,
   "metadata": {},
   "outputs": [],
   "source": [
    "for key, value in peacock_dict.items():\n",
    "    peacock_clean[key] = value[0].lower()"
   ]
  },
  {
   "cell_type": "code",
   "execution_count": 49,
   "metadata": {},
   "outputs": [],
   "source": [
    "def removePunctuation(inputstr):\n",
    "    '''\n",
    "    Input: A string\n",
    "    Output: A string without punctuation\n",
    "    '''\n",
    "    punctuation = [',','.','?','!']\n",
    "    return ''.join(word for word in inputstr if word not in punctuation)"
   ]
  },
  {
   "cell_type": "code",
   "execution_count": 50,
   "metadata": {},
   "outputs": [],
   "source": [
    "try:\n",
    "    nltk.data.find('corpora/stopwords')\n",
    "except:\n",
    "    nltk.download('stopwords')\n",
    "\n",
    "sw = stopwords.words('english')"
   ]
  },
  {
   "cell_type": "code",
   "execution_count": 51,
   "metadata": {},
   "outputs": [],
   "source": [
    "def replaceApostrophes(inputstr):\n",
    "    '''\n",
    "    Input: A string\n",
    "    Output: A string with the correct apostrophe\n",
    "    '''\n",
    "    return inputstr.replace('’',\"'\")"
   ]
  },
  {
   "cell_type": "code",
   "execution_count": 52,
   "metadata": {},
   "outputs": [],
   "source": [
    "def removeStopwords(inputstr, sw):\n",
    "    '''\n",
    "    Input: A string\n",
    "    Output: String without the stopwords\n",
    "    '''\n",
    "    return ' '.join(word for word in inputstr.split() if not word in sw)"
   ]
  },
  {
   "cell_type": "code",
   "execution_count": 53,
   "metadata": {},
   "outputs": [],
   "source": [
    "def removeApostrophes(inputstr):\n",
    "    '''\n",
    "    Input: A string\n",
    "    Output: A string without apostrophes\n",
    "    '''\n",
    "    return ''.join(word for word in inputstr if not word == \"'\")"
   ]
  },
  {
   "cell_type": "code",
   "execution_count": 54,
   "metadata": {},
   "outputs": [],
   "source": [
    "from nltk.stem import WordNetLemmatizer\n",
    "\n",
    "try:\n",
    "    nltk.data.find('corpora/wordnet')\n",
    "except:\n",
    "    nltk.download('wordnet')\n",
    "\n",
    "lemmatizer = WordNetLemmatizer()"
   ]
  },
  {
   "cell_type": "code",
   "execution_count": 55,
   "metadata": {},
   "outputs": [],
   "source": [
    "def lemmatize(inputstr):\n",
    "    '''\n",
    "    Input: A string\n",
    "    Output: The string with all lemmatized words.\n",
    "    '''\n",
    "    # YOUR CODE HERE\n",
    "    return \" \".join(lemmatizer.lemmatize(word) for word in inputstr.split())"
   ]
  },
  {
   "cell_type": "code",
   "execution_count": 56,
   "metadata": {},
   "outputs": [],
   "source": [
    "def cleandict(dict_, sw):\n",
    "    '''\n",
    "    Input: biodict, stopwords\n",
    "    Output: Cleaned Biodict\n",
    "    '''\n",
    "    # YOUR CODE HERE\n",
    "    for key,value in dict_.items():\n",
    "        new_value = lemmatize(removeApostrophes(removeStopwords(replaceApostrophes(removePunctuation(value)), sw)))\n",
    "        dict_[key] = new_value\n",
    "    return dict_\n",
    "# biodict = cleandict(biodict, sw)"
   ]
  },
  {
   "cell_type": "code",
   "execution_count": 57,
   "metadata": {},
   "outputs": [],
   "source": [
    "hbomax_clean = cleandict(hbomax_clean, sw)"
   ]
  },
  {
   "cell_type": "code",
   "execution_count": 58,
   "metadata": {},
   "outputs": [],
   "source": [
    "hulu_clean = cleandict(hulu_clean, sw)"
   ]
  },
  {
   "cell_type": "code",
   "execution_count": 59,
   "metadata": {},
   "outputs": [],
   "source": [
    "netflix_clean = cleandict(netflix_clean, sw)"
   ]
  },
  {
   "cell_type": "code",
   "execution_count": 60,
   "metadata": {},
   "outputs": [],
   "source": [
    "disneyplus_clean = cleandict(disneyplus_clean, sw)"
   ]
  },
  {
   "cell_type": "code",
   "execution_count": 61,
   "metadata": {},
   "outputs": [],
   "source": [
    "peacock_clean = cleandict(peacock_clean, sw)"
   ]
  },
  {
   "cell_type": "markdown",
   "metadata": {},
   "source": [
    "##### 02 LSA (Latent Semantic Analysis)"
   ]
  },
  {
   "cell_type": "code",
   "execution_count": 62,
   "metadata": {},
   "outputs": [],
   "source": [
    "import logging\n",
    "logger = logging.getLogger()\n",
    "logger.setLevel(logging.CRITICAL)"
   ]
  },
  {
   "cell_type": "code",
   "execution_count": 63,
   "metadata": {},
   "outputs": [],
   "source": [
    "def load_data_from_dict(clean_dict):\n",
    "    '''\n",
    "    Input: clean_dict\n",
    "    Output: reviews_list, Usernames\n",
    "    '''\n",
    "    Usernames = list(clean_dict.keys())\n",
    "    reviews_list = list(clean_dict.values())\n",
    "    return reviews_list, Usernames"
   ]
  },
  {
   "cell_type": "code",
   "execution_count": 64,
   "metadata": {},
   "outputs": [],
   "source": [
    "def preprocess_data(reviews_list):\n",
    "    \"\"\"\n",
    "    Input  : docuemnt list\n",
    "    Output : preprocessed(cleaned) document list\n",
    "    \"\"\"\n",
    "    tokenizer = RegexpTokenizer(r'\\w+')\n",
    "    p_stemmer = PorterStemmer()\n",
    "    clean_list = []\n",
    "    for i in reviews_list:\n",
    "        tokens = tokenizer.tokenize(i)\n",
    "        stemmed_tokens = [p_stemmer.stem(i) for i in tokens]\n",
    "        clean_list.append(stemmed_tokens)\n",
    "    return clean_list"
   ]
  },
  {
   "cell_type": "code",
   "execution_count": 65,
   "metadata": {},
   "outputs": [],
   "source": [
    "def prepare_corpus(clean_list):\n",
    "    \"\"\"\n",
    "    Input  : cleaned reviews list\n",
    "    Output : term dictionary, Document Term Matrix\n",
    "    \"\"\"\n",
    "    term_dictionary = corpora.Dictionary(clean_list)\n",
    "    doc_term_matrix = [term_dictionary.doc2bow(doc) for doc in clean_list]\n",
    "    return term_dictionary,doc_term_matrix"
   ]
  },
  {
   "cell_type": "code",
   "execution_count": 66,
   "metadata": {},
   "outputs": [],
   "source": [
    "def create_gensim_lsa_model(clean_list,number_of_topics,words):\n",
    "    \"\"\"\n",
    "    Input  : clean reviews list, number of topics\n",
    "    Output : LSA model\n",
    "    \"\"\"\n",
    "    term_dictionary, doc_term_matrix = prepare_corpus(clean_list)\n",
    "    lsamodel = LsiModel(doc_term_matrix, num_topics=number_of_topics, id2word = term_dictionary)  # train model\n",
    "    return lsamodel"
   ]
  },
  {
   "cell_type": "code",
   "execution_count": 67,
   "metadata": {},
   "outputs": [],
   "source": [
    "def compute_coherence_values(term_dictionary, doc_term_matrix, clean_list, start, stop, step):\n",
    "    \"\"\"\n",
    "    Input: term_dictionary, doc_term_matrix, clean_list, \n",
    "           start(Min. number of topics),\n",
    "           stop(Max. num of topics)\n",
    "           step(Step size when increasing the number of topics) \n",
    "    Output  : coherence_values : Coherence values corresponding to the LDA model with respective number of topics\n",
    "    \"\"\"\n",
    "    coherence_values = []\n",
    "    for num_topics in range(start, stop, step):\n",
    "        model = LsiModel(doc_term_matrix, num_topics=num_topics, id2word = term_dictionary)\n",
    "        coherencemodel = CoherenceModel(model=model, texts=clean_list, dictionary=term_dictionary, coherence='c_v')\n",
    "        coherence_values.append(coherencemodel.get_coherence())\n",
    "    return coherence_values"
   ]
  },
  {
   "cell_type": "code",
   "execution_count": 68,
   "metadata": {},
   "outputs": [],
   "source": [
    "def plot_graph(coherence_values,start, stop, step):\n",
    "    '''\n",
    "    Input: Coherence Values, Start, Stop, Step\n",
    "    Output: N/A(Should not return anything, but should plot the graph between the number of topics and coherence values.)\n",
    "    '''\n",
    "    x = range(start, stop, step)\n",
    "    plt.plot(x, coherence_values)\n",
    "    plt.xlabel(\"Number of Topics\")\n",
    "    plt.ylabel(\"Coherence score\")\n",
    "    plt.legend((\"coherence_values\"), loc='best')\n",
    "    plt.show()"
   ]
  },
  {
   "cell_type": "code",
   "execution_count": 69,
   "metadata": {},
   "outputs": [],
   "source": [
    "def get_lsa_topics(model, num_topics):\n",
    "    word_dict = {};\n",
    "    for i in range(num_topics):\n",
    "        words = model.show_topic(i, topn = 8);\n",
    "        word_dict['Topic # ' + '{:02d}'.format(i+1)] = [i[0] for i in words];\n",
    "    return pd.DataFrame(word_dict);"
   ]
  },
  {
   "cell_type": "code",
   "execution_count": 70,
   "metadata": {},
   "outputs": [],
   "source": [
    "#hbomax best number of topics"
   ]
  },
  {
   "cell_type": "code",
   "execution_count": 71,
   "metadata": {},
   "outputs": [
    {
     "data": {
      "image/png": "[encoded data removed]",
      "text/plain": [
       "<Figure size 432x288 with 1 Axes>"
      ]
     },
     "metadata": {
      "needs_background": "light"
     },
     "output_type": "display_data"
    }
   ],
   "source": [
    "start,stop,step=2,10,1\n",
    "\n",
    "hbo_reviews_list,usernames=load_data_from_dict(hbomax_clean)\n",
    "clean_reviews_list=preprocess_data(hbo_reviews_list)\n",
    "term_dictionary, doc_term_matrix = prepare_corpus(clean_reviews_list)\n",
    "hbomax_coherence_values = compute_coherence_values(term_dictionary, doc_term_matrix,clean_reviews_list, start, stop, step)\n",
    "plot_graph(hbomax_coherence_values,start,stop,step)"
   ]
  },
  {
   "cell_type": "code",
   "execution_count": 72,
   "metadata": {},
   "outputs": [
    {
     "name": "stdout",
     "output_type": "stream",
     "text": [
      "hbomax best number of topics =  3\n",
      "\n"
     ]
    }
   ],
   "source": [
    "hbomax_number_of_topics = start + step * hbomax_coherence_values.index(max(hbomax_coherence_values))\n",
    "print(\"hbomax best number of topics = \", hbomax_number_of_topics)\n",
    "print()\n",
    "words=8\n",
    "model=create_gensim_lsa_model(clean_reviews_list,hbomax_number_of_topics,words)\n",
    "# print(model.print_topics(num_topics=hbomax_number_of_topics, num_words=words))"
   ]
  },
  {
   "cell_type": "code",
   "execution_count": 73,
   "metadata": {},
   "outputs": [
    {
     "data": {
      "text/html": [
       "<div>\n",
       "<style scoped>\n",
       "    .dataframe tbody tr th:only-of-type {\n",
       "        vertical-align: middle;\n",
       "    }\n",
       "\n",
       "    .dataframe tbody tr th {\n",
       "        vertical-align: top;\n",
       "    }\n",
       "\n",
       "    .dataframe thead th {\n",
       "        text-align: right;\n",
       "    }\n",
       "</style>\n",
       "<table border=\"1\" class=\"dataframe\">\n",
       "  <thead>\n",
       "    <tr style=\"text-align: right;\">\n",
       "      <th></th>\n",
       "      <th>Topic # 01</th>\n",
       "      <th>Topic # 02</th>\n",
       "      <th>Topic # 03</th>\n",
       "    </tr>\n",
       "  </thead>\n",
       "  <tbody>\n",
       "    <tr>\n",
       "      <th>0</th>\n",
       "      <td>app</td>\n",
       "      <td>hbo</td>\n",
       "      <td>app</td>\n",
       "    </tr>\n",
       "    <tr>\n",
       "      <th>1</th>\n",
       "      <td>hbo</td>\n",
       "      <td>app</td>\n",
       "      <td>watch</td>\n",
       "    </tr>\n",
       "    <tr>\n",
       "      <th>2</th>\n",
       "      <td>watch</td>\n",
       "      <td>max</td>\n",
       "      <td>show</td>\n",
       "    </tr>\n",
       "    <tr>\n",
       "      <th>3</th>\n",
       "      <td>show</td>\n",
       "      <td>download</td>\n",
       "      <td>episod</td>\n",
       "    </tr>\n",
       "    <tr>\n",
       "      <th>4</th>\n",
       "      <td>tv</td>\n",
       "      <td>episod</td>\n",
       "      <td>movi</td>\n",
       "    </tr>\n",
       "    <tr>\n",
       "      <th>5</th>\n",
       "      <td>max</td>\n",
       "      <td>play</td>\n",
       "      <td>go</td>\n",
       "    </tr>\n",
       "    <tr>\n",
       "      <th>6</th>\n",
       "      <td>download</td>\n",
       "      <td>show</td>\n",
       "      <td>like</td>\n",
       "    </tr>\n",
       "    <tr>\n",
       "      <th>7</th>\n",
       "      <td>content</td>\n",
       "      <td>watch</td>\n",
       "      <td>work</td>\n",
       "    </tr>\n",
       "  </tbody>\n",
       "</table>\n",
       "</div>"
      ],
      "text/plain": [
       "  Topic # 01 Topic # 02 Topic # 03\n",
       "0        app        hbo        app\n",
       "1        hbo        app      watch\n",
       "2      watch        max       show\n",
       "3       show   download     episod\n",
       "4         tv     episod       movi\n",
       "5        max       play         go\n",
       "6   download       show       like\n",
       "7    content      watch       work"
      ]
     },
     "execution_count": 73,
     "metadata": {},
     "output_type": "execute_result"
    }
   ],
   "source": [
    "get_lsa_topics(model, hbomax_number_of_topics)"
   ]
  },
  {
   "cell_type": "code",
   "execution_count": 74,
   "metadata": {},
   "outputs": [],
   "source": [
    "#hulu best number of topics "
   ]
  },
  {
   "cell_type": "code",
   "execution_count": 75,
   "metadata": {},
   "outputs": [
    {
     "data": {
      "image/png": "[encoded data removed]",
      "text/plain": [
       "<Figure size 432x288 with 1 Axes>"
      ]
     },
     "metadata": {
      "needs_background": "light"
     },
     "output_type": "display_data"
    }
   ],
   "source": [
    "start,stop,step=2,10,1\n",
    "\n",
    "hulu_reviews_list,usernames=load_data_from_dict(hulu_clean)\n",
    "clean_reviews_list=preprocess_data(hulu_reviews_list)\n",
    "term_dictionary, doc_term_matrix = prepare_corpus(clean_reviews_list)\n",
    "hulu_coherence_values = compute_coherence_values(term_dictionary, doc_term_matrix,clean_reviews_list, start, stop, step)\n",
    "plot_graph(hulu_coherence_values,start,stop,step)"
   ]
  },
  {
   "cell_type": "code",
   "execution_count": 76,
   "metadata": {},
   "outputs": [
    {
     "name": "stdout",
     "output_type": "stream",
     "text": [
      "hulu best number of topics =  3\n",
      "\n"
     ]
    }
   ],
   "source": [
    "hulu_number_of_topics = start + step * hulu_coherence_values.index(max(hulu_coherence_values)) \n",
    "print(\"hulu best number of topics = \", hulu_number_of_topics)\n",
    "print()\n",
    "words=8\n",
    "model=create_gensim_lsa_model(clean_reviews_list,hulu_number_of_topics,words)\n",
    "# print(model.print_topics(num_topics=hulu_number_of_topics, num_words=words))"
   ]
  },
  {
   "cell_type": "code",
   "execution_count": 77,
   "metadata": {},
   "outputs": [
    {
     "data": {
      "text/html": [
       "<div>\n",
       "<style scoped>\n",
       "    .dataframe tbody tr th:only-of-type {\n",
       "        vertical-align: middle;\n",
       "    }\n",
       "\n",
       "    .dataframe tbody tr th {\n",
       "        vertical-align: top;\n",
       "    }\n",
       "\n",
       "    .dataframe thead th {\n",
       "        text-align: right;\n",
       "    }\n",
       "</style>\n",
       "<table border=\"1\" class=\"dataframe\">\n",
       "  <thead>\n",
       "    <tr style=\"text-align: right;\">\n",
       "      <th></th>\n",
       "      <th>Topic # 01</th>\n",
       "      <th>Topic # 02</th>\n",
       "      <th>Topic # 03</th>\n",
       "    </tr>\n",
       "  </thead>\n",
       "  <tbody>\n",
       "    <tr>\n",
       "      <th>0</th>\n",
       "      <td>show</td>\n",
       "      <td>app</td>\n",
       "      <td>ad</td>\n",
       "    </tr>\n",
       "    <tr>\n",
       "      <th>1</th>\n",
       "      <td>watch</td>\n",
       "      <td>show</td>\n",
       "      <td>episod</td>\n",
       "    </tr>\n",
       "    <tr>\n",
       "      <th>2</th>\n",
       "      <td>app</td>\n",
       "      <td>watch</td>\n",
       "      <td>minut</td>\n",
       "    </tr>\n",
       "    <tr>\n",
       "      <th>3</th>\n",
       "      <td>episod</td>\n",
       "      <td>episod</td>\n",
       "      <td>second</td>\n",
       "    </tr>\n",
       "    <tr>\n",
       "      <th>4</th>\n",
       "      <td>ad</td>\n",
       "      <td>ad</td>\n",
       "      <td>show</td>\n",
       "    </tr>\n",
       "    <tr>\n",
       "      <th>5</th>\n",
       "      <td>time</td>\n",
       "      <td>work</td>\n",
       "      <td>next</td>\n",
       "    </tr>\n",
       "    <tr>\n",
       "      <th>6</th>\n",
       "      <td>get</td>\n",
       "      <td>use</td>\n",
       "      <td>new</td>\n",
       "    </tr>\n",
       "    <tr>\n",
       "      <th>7</th>\n",
       "      <td>im</td>\n",
       "      <td>updat</td>\n",
       "      <td>5</td>\n",
       "    </tr>\n",
       "  </tbody>\n",
       "</table>\n",
       "</div>"
      ],
      "text/plain": [
       "  Topic # 01 Topic # 02 Topic # 03\n",
       "0       show        app         ad\n",
       "1      watch       show     episod\n",
       "2        app      watch      minut\n",
       "3     episod     episod     second\n",
       "4         ad         ad       show\n",
       "5       time       work       next\n",
       "6        get        use        new\n",
       "7         im      updat          5"
      ]
     },
     "execution_count": 77,
     "metadata": {},
     "output_type": "execute_result"
    }
   ],
   "source": [
    "get_lsa_topics(model, hulu_number_of_topics)"
   ]
  },
  {
   "cell_type": "code",
   "execution_count": 78,
   "metadata": {},
   "outputs": [],
   "source": [
    "#netflix best number of topics"
   ]
  },
  {
   "cell_type": "code",
   "execution_count": 79,
   "metadata": {},
   "outputs": [
    {
     "data": {
      "image/png": "[encoded data removed]",
      "text/plain": [
       "<Figure size 432x288 with 1 Axes>"
      ]
     },
     "metadata": {
      "needs_background": "light"
     },
     "output_type": "display_data"
    }
   ],
   "source": [
    "start,stop,step=2,10,1\n",
    "\n",
    "netflix_reviews_list,usernames=load_data_from_dict(netflix_clean)\n",
    "clean_reviews_list=preprocess_data(netflix_reviews_list)\n",
    "term_dictionary, doc_term_matrix = prepare_corpus(clean_reviews_list)\n",
    "netflix_coherence_values = compute_coherence_values(term_dictionary, doc_term_matrix,clean_reviews_list, start, stop, step)\n",
    "plot_graph(netflix_coherence_values,start,stop,step)"
   ]
  },
  {
   "cell_type": "code",
   "execution_count": 80,
   "metadata": {
    "scrolled": true
   },
   "outputs": [
    {
     "name": "stdout",
     "output_type": "stream",
     "text": [
      "netflix best number of topics =  9\n",
      "\n"
     ]
    }
   ],
   "source": [
    "netflix_number_of_topics = start + step * netflix_coherence_values.index(max(netflix_coherence_values))\n",
    "print(\"netflix best number of topics = \", netflix_number_of_topics)\n",
    "print()\n",
    "words=8\n",
    "model=create_gensim_lsa_model(clean_reviews_list,netflix_number_of_topics,words)\n",
    "# print(model.print_topics(num_topics=netflix_number_of_topics, num_words=words))"
   ]
  },
  {
   "cell_type": "code",
   "execution_count": 81,
   "metadata": {},
   "outputs": [
    {
     "data": {
      "text/html": [
       "<div>\n",
       "<style scoped>\n",
       "    .dataframe tbody tr th:only-of-type {\n",
       "        vertical-align: middle;\n",
       "    }\n",
       "\n",
       "    .dataframe tbody tr th {\n",
       "        vertical-align: top;\n",
       "    }\n",
       "\n",
       "    .dataframe thead th {\n",
       "        text-align: right;\n",
       "    }\n",
       "</style>\n",
       "<table border=\"1\" class=\"dataframe\">\n",
       "  <thead>\n",
       "    <tr style=\"text-align: right;\">\n",
       "      <th></th>\n",
       "      <th>Topic # 01</th>\n",
       "      <th>Topic # 02</th>\n",
       "      <th>Topic # 03</th>\n",
       "      <th>Topic # 04</th>\n",
       "      <th>Topic # 05</th>\n",
       "      <th>Topic # 06</th>\n",
       "      <th>Topic # 07</th>\n",
       "      <th>Topic # 08</th>\n",
       "      <th>Topic # 09</th>\n",
       "    </tr>\n",
       "  </thead>\n",
       "  <tbody>\n",
       "    <tr>\n",
       "      <th>0</th>\n",
       "      <td>show</td>\n",
       "      <td>movi</td>\n",
       "      <td>show</td>\n",
       "      <td>netflix</td>\n",
       "      <td>watch</td>\n",
       "      <td>watch</td>\n",
       "      <td>season</td>\n",
       "      <td>pleas</td>\n",
       "      <td>download</td>\n",
       "    </tr>\n",
       "    <tr>\n",
       "      <th>1</th>\n",
       "      <td>netflix</td>\n",
       "      <td>show</td>\n",
       "      <td>netflix</td>\n",
       "      <td>app</td>\n",
       "      <td>app</td>\n",
       "      <td>season</td>\n",
       "      <td>like</td>\n",
       "      <td>love</td>\n",
       "      <td>love</td>\n",
       "    </tr>\n",
       "    <tr>\n",
       "      <th>2</th>\n",
       "      <td>watch</td>\n",
       "      <td>season</td>\n",
       "      <td>app</td>\n",
       "      <td>watch</td>\n",
       "      <td>show</td>\n",
       "      <td>like</td>\n",
       "      <td>movi</td>\n",
       "      <td>like</td>\n",
       "      <td>app</td>\n",
       "    </tr>\n",
       "    <tr>\n",
       "      <th>3</th>\n",
       "      <td>movi</td>\n",
       "      <td>app</td>\n",
       "      <td>use</td>\n",
       "      <td>season</td>\n",
       "      <td>season</td>\n",
       "      <td>netflix</td>\n",
       "      <td>kid</td>\n",
       "      <td>season</td>\n",
       "      <td>kid</td>\n",
       "    </tr>\n",
       "    <tr>\n",
       "      <th>4</th>\n",
       "      <td>like</td>\n",
       "      <td>pleas</td>\n",
       "      <td>like</td>\n",
       "      <td>download</td>\n",
       "      <td>netflix</td>\n",
       "      <td>app</td>\n",
       "      <td>would</td>\n",
       "      <td>back</td>\n",
       "      <td>episod</td>\n",
       "    </tr>\n",
       "    <tr>\n",
       "      <th>5</th>\n",
       "      <td>app</td>\n",
       "      <td>episod</td>\n",
       "      <td>updat</td>\n",
       "      <td>love</td>\n",
       "      <td>pleas</td>\n",
       "      <td>pleas</td>\n",
       "      <td>love</td>\n",
       "      <td>would</td>\n",
       "      <td>section</td>\n",
       "    </tr>\n",
       "    <tr>\n",
       "      <th>6</th>\n",
       "      <td>love</td>\n",
       "      <td>good</td>\n",
       "      <td>tri</td>\n",
       "      <td>list</td>\n",
       "      <td>like</td>\n",
       "      <td>show</td>\n",
       "      <td>section</td>\n",
       "      <td>netflix</td>\n",
       "      <td>pleas</td>\n",
       "    </tr>\n",
       "    <tr>\n",
       "      <th>7</th>\n",
       "      <td>would</td>\n",
       "      <td>netflix</td>\n",
       "      <td>work</td>\n",
       "      <td>updat</td>\n",
       "      <td>anim</td>\n",
       "      <td>would</td>\n",
       "      <td>thing</td>\n",
       "      <td>make</td>\n",
       "      <td>time</td>\n",
       "    </tr>\n",
       "  </tbody>\n",
       "</table>\n",
       "</div>"
      ],
      "text/plain": [
       "  Topic # 01 Topic # 02 Topic # 03 Topic # 04 Topic # 05 Topic # 06  \\\n",
       "0       show       movi       show    netflix      watch      watch   \n",
       "1    netflix       show    netflix        app        app     season   \n",
       "2      watch     season        app      watch       show       like   \n",
       "3       movi        app        use     season     season    netflix   \n",
       "4       like      pleas       like   download    netflix        app   \n",
       "5        app     episod      updat       love      pleas      pleas   \n",
       "6       love       good        tri       list       like       show   \n",
       "7      would    netflix       work      updat       anim      would   \n",
       "\n",
       "  Topic # 07 Topic # 08 Topic # 09  \n",
       "0     season      pleas   download  \n",
       "1       like       love       love  \n",
       "2       movi       like        app  \n",
       "3        kid     season        kid  \n",
       "4      would       back     episod  \n",
       "5       love      would    section  \n",
       "6    section    netflix      pleas  \n",
       "7      thing       make       time  "
      ]
     },
     "execution_count": 81,
     "metadata": {},
     "output_type": "execute_result"
    }
   ],
   "source": [
    "get_lsa_topics(model, netflix_number_of_topics)"
   ]
  },
  {
   "cell_type": "code",
   "execution_count": 82,
   "metadata": {},
   "outputs": [],
   "source": [
    "#disneyplus best number of topics"
   ]
  },
  {
   "cell_type": "code",
   "execution_count": 83,
   "metadata": {},
   "outputs": [
    {
     "data": {
      "image/png": "[encoded data removed]",
      "text/plain": [
       "<Figure size 432x288 with 1 Axes>"
      ]
     },
     "metadata": {
      "needs_background": "light"
     },
     "output_type": "display_data"
    }
   ],
   "source": [
    "start,stop,step=2,10,1\n",
    "\n",
    "disneyplus_reviews_list,usernames=load_data_from_dict(disneyplus_clean)\n",
    "clean_reviews_list=preprocess_data(disneyplus_reviews_list)\n",
    "term_dictionary, doc_term_matrix = prepare_corpus(clean_reviews_list)\n",
    "disneyplus_coherence_values = compute_coherence_values(term_dictionary, doc_term_matrix,clean_reviews_list, start, stop, step)\n",
    "plot_graph(disneyplus_coherence_values,start,stop,step)"
   ]
  },
  {
   "cell_type": "code",
   "execution_count": 84,
   "metadata": {},
   "outputs": [
    {
     "name": "stdout",
     "output_type": "stream",
     "text": [
      "disneyplus best number of topics =  3\n",
      "\n"
     ]
    }
   ],
   "source": [
    "disneyplus_number_of_topics = start + step * disneyplus_coherence_values.index(max(disneyplus_coherence_values)) \n",
    "print(\"disneyplus best number of topics = \", disneyplus_number_of_topics)\n",
    "print()\n",
    "words=8\n",
    "model=create_gensim_lsa_model(clean_reviews_list,disneyplus_number_of_topics,words)\n",
    "# print(model.print_topics(num_topics=disneyplus_number_of_topics, num_words=words))"
   ]
  },
  {
   "cell_type": "code",
   "execution_count": 85,
   "metadata": {},
   "outputs": [
    {
     "data": {
      "text/html": [
       "<div>\n",
       "<style scoped>\n",
       "    .dataframe tbody tr th:only-of-type {\n",
       "        vertical-align: middle;\n",
       "    }\n",
       "\n",
       "    .dataframe tbody tr th {\n",
       "        vertical-align: top;\n",
       "    }\n",
       "\n",
       "    .dataframe thead th {\n",
       "        text-align: right;\n",
       "    }\n",
       "</style>\n",
       "<table border=\"1\" class=\"dataframe\">\n",
       "  <thead>\n",
       "    <tr style=\"text-align: right;\">\n",
       "      <th></th>\n",
       "      <th>Topic # 01</th>\n",
       "      <th>Topic # 02</th>\n",
       "      <th>Topic # 03</th>\n",
       "    </tr>\n",
       "  </thead>\n",
       "  <tbody>\n",
       "    <tr>\n",
       "      <th>0</th>\n",
       "      <td>watch</td>\n",
       "      <td>disney</td>\n",
       "      <td>app</td>\n",
       "    </tr>\n",
       "    <tr>\n",
       "      <th>1</th>\n",
       "      <td>disney</td>\n",
       "      <td>watch</td>\n",
       "      <td>show</td>\n",
       "    </tr>\n",
       "    <tr>\n",
       "      <th>2</th>\n",
       "      <td>app</td>\n",
       "      <td>episod</td>\n",
       "      <td>movi</td>\n",
       "    </tr>\n",
       "    <tr>\n",
       "      <th>3</th>\n",
       "      <td>movi</td>\n",
       "      <td>movi</td>\n",
       "      <td>watch</td>\n",
       "    </tr>\n",
       "    <tr>\n",
       "      <th>4</th>\n",
       "      <td>show</td>\n",
       "      <td>continu</td>\n",
       "      <td>disney</td>\n",
       "    </tr>\n",
       "    <tr>\n",
       "      <th>5</th>\n",
       "      <td>like</td>\n",
       "      <td>plu</td>\n",
       "      <td>use</td>\n",
       "    </tr>\n",
       "    <tr>\n",
       "      <th>6</th>\n",
       "      <td>love</td>\n",
       "      <td>left</td>\n",
       "      <td>content</td>\n",
       "    </tr>\n",
       "    <tr>\n",
       "      <th>7</th>\n",
       "      <td>episod</td>\n",
       "      <td>list</td>\n",
       "      <td>issu</td>\n",
       "    </tr>\n",
       "  </tbody>\n",
       "</table>\n",
       "</div>"
      ],
      "text/plain": [
       "  Topic # 01 Topic # 02 Topic # 03\n",
       "0      watch     disney        app\n",
       "1     disney      watch       show\n",
       "2        app     episod       movi\n",
       "3       movi       movi      watch\n",
       "4       show    continu     disney\n",
       "5       like        plu        use\n",
       "6       love       left    content\n",
       "7     episod       list       issu"
      ]
     },
     "execution_count": 85,
     "metadata": {},
     "output_type": "execute_result"
    }
   ],
   "source": [
    "get_lsa_topics(model, disneyplus_number_of_topics)"
   ]
  },
  {
   "cell_type": "code",
   "execution_count": 86,
   "metadata": {},
   "outputs": [],
   "source": [
    "#peacock best number of topics"
   ]
  },
  {
   "cell_type": "code",
   "execution_count": 87,
   "metadata": {},
   "outputs": [
    {
     "data": {
      "image/png": "[encoded data removed]",
      "text/plain": [
       "<Figure size 432x288 with 1 Axes>"
      ]
     },
     "metadata": {
      "needs_background": "light"
     },
     "output_type": "display_data"
    }
   ],
   "source": [
    "start,stop,step=2,10,1\n",
    "\n",
    "peacock_reviews_list,usernames=load_data_from_dict(peacock_clean)\n",
    "clean_reviews_list=preprocess_data(peacock_reviews_list)\n",
    "term_dictionary, doc_term_matrix = prepare_corpus(clean_reviews_list)\n",
    "peacock_coherence_values = compute_coherence_values(term_dictionary, doc_term_matrix,clean_reviews_list, start, stop, step)\n",
    "plot_graph(peacock_coherence_values,start,stop,step)"
   ]
  },
  {
   "cell_type": "code",
   "execution_count": 88,
   "metadata": {},
   "outputs": [
    {
     "name": "stdout",
     "output_type": "stream",
     "text": [
      "peacock best number of topics =  3\n",
      "\n"
     ]
    }
   ],
   "source": [
    "peacock_number_of_topics = start + step * peacock_coherence_values.index(max(peacock_coherence_values))\n",
    "print(\"peacock best number of topics = \", peacock_number_of_topics)\n",
    "print()\n",
    "words=8\n",
    "model=create_gensim_lsa_model(clean_reviews_list,peacock_number_of_topics,words)\n",
    "# print(model.print_topics(num_topics=peacock_number_of_topics, num_words=words))"
   ]
  },
  {
   "cell_type": "code",
   "execution_count": 89,
   "metadata": {},
   "outputs": [
    {
     "data": {
      "text/html": [
       "<div>\n",
       "<style scoped>\n",
       "    .dataframe tbody tr th:only-of-type {\n",
       "        vertical-align: middle;\n",
       "    }\n",
       "\n",
       "    .dataframe tbody tr th {\n",
       "        vertical-align: top;\n",
       "    }\n",
       "\n",
       "    .dataframe thead th {\n",
       "        text-align: right;\n",
       "    }\n",
       "</style>\n",
       "<table border=\"1\" class=\"dataframe\">\n",
       "  <thead>\n",
       "    <tr style=\"text-align: right;\">\n",
       "      <th></th>\n",
       "      <th>Topic # 01</th>\n",
       "      <th>Topic # 02</th>\n",
       "      <th>Topic # 03</th>\n",
       "    </tr>\n",
       "  </thead>\n",
       "  <tbody>\n",
       "    <tr>\n",
       "      <th>0</th>\n",
       "      <td>app</td>\n",
       "      <td>game</td>\n",
       "      <td>show</td>\n",
       "    </tr>\n",
       "    <tr>\n",
       "      <th>1</th>\n",
       "      <td>watch</td>\n",
       "      <td>watch</td>\n",
       "      <td>app</td>\n",
       "    </tr>\n",
       "    <tr>\n",
       "      <th>2</th>\n",
       "      <td>tv</td>\n",
       "      <td>app</td>\n",
       "      <td>episod</td>\n",
       "    </tr>\n",
       "    <tr>\n",
       "      <th>3</th>\n",
       "      <td>show</td>\n",
       "      <td>tv</td>\n",
       "      <td>game</td>\n",
       "    </tr>\n",
       "    <tr>\n",
       "      <th>4</th>\n",
       "      <td>stream</td>\n",
       "      <td>leagu</td>\n",
       "      <td>watch</td>\n",
       "    </tr>\n",
       "    <tr>\n",
       "      <th>5</th>\n",
       "      <td>peacock</td>\n",
       "      <td>premier</td>\n",
       "      <td>nbc</td>\n",
       "    </tr>\n",
       "    <tr>\n",
       "      <th>6</th>\n",
       "      <td>game</td>\n",
       "      <td>pay</td>\n",
       "      <td>commerci</td>\n",
       "    </tr>\n",
       "    <tr>\n",
       "      <th>7</th>\n",
       "      <td>use</td>\n",
       "      <td>nbc</td>\n",
       "      <td>premier</td>\n",
       "    </tr>\n",
       "  </tbody>\n",
       "</table>\n",
       "</div>"
      ],
      "text/plain": [
       "  Topic # 01 Topic # 02 Topic # 03\n",
       "0        app       game       show\n",
       "1      watch      watch        app\n",
       "2         tv        app     episod\n",
       "3       show         tv       game\n",
       "4     stream      leagu      watch\n",
       "5    peacock    premier        nbc\n",
       "6       game        pay   commerci\n",
       "7        use        nbc    premier"
      ]
     },
     "execution_count": 89,
     "metadata": {},
     "output_type": "execute_result"
    }
   ],
   "source": [
    "get_lsa_topics(model, peacock_number_of_topics)"
   ]
  },
  {
   "cell_type": "markdown",
   "metadata": {},
   "source": [
    "##### 03 Part of Speech Tagging "
   ]
  },
  {
   "cell_type": "code",
   "execution_count": 90,
   "metadata": {},
   "outputs": [],
   "source": [
    "stop_words = set(stopwords.words('english')) "
   ]
  },
  {
   "cell_type": "code",
   "execution_count": 91,
   "metadata": {},
   "outputs": [],
   "source": [
    "hbomax_pos = []\n",
    "for key in hbomax_dict.keys():\n",
    "    txt = hbomax_dict[key][0]\n",
    "    tokenized = sent_tokenize(txt) \n",
    "    taggedList = []\n",
    "    \n",
    "    for i in tokenized:    \n",
    "        # Word tokenizers is used to find the words  \n",
    "        # and punctuation in a string \n",
    "        wordsList = nltk.word_tokenize(i) \n",
    "\n",
    "        # removing stop words from wordList \n",
    "        wordsList = [w for w in wordsList if not w in stop_words]  \n",
    "\n",
    "        #  Using a Tagger. Which is part-of-speech  \n",
    "        # tagger or POS-tagger.  \n",
    "        tagged = nltk.pos_tag(wordsList)\n",
    "        \n",
    "        taggedList.extend(tagged)\n",
    "    \n",
    "    hbomax_pos.append(taggedList)"
   ]
  },
  {
   "cell_type": "code",
   "execution_count": 92,
   "metadata": {},
   "outputs": [],
   "source": [
    "hulu_pos = []\n",
    "for key in hulu_dict.keys():\n",
    "    txt = hulu_dict[key][0]\n",
    "    tokenized = sent_tokenize(txt) \n",
    "    taggedList = []\n",
    "    \n",
    "    for i in tokenized:    \n",
    "        # Word tokenizers is used to find the words  \n",
    "        # and punctuation in a string \n",
    "        wordsList = nltk.word_tokenize(i) \n",
    "\n",
    "        # removing stop words from wordList \n",
    "        wordsList = [w for w in wordsList if not w in stop_words]  \n",
    "\n",
    "        #  Using a Tagger. Which is part-of-speech  \n",
    "        # tagger or POS-tagger.  \n",
    "        tagged = nltk.pos_tag(wordsList)\n",
    "        \n",
    "        taggedList.extend(tagged)\n",
    "    \n",
    "    hulu_pos.append(taggedList)"
   ]
  },
  {
   "cell_type": "code",
   "execution_count": 93,
   "metadata": {},
   "outputs": [],
   "source": [
    "netflix_pos = []\n",
    "for key in netflix_dict.keys():\n",
    "    txt = netflix_dict[key][0]\n",
    "    tokenized = sent_tokenize(txt) \n",
    "    taggedList = []\n",
    "    \n",
    "    for i in tokenized:    \n",
    "        # Word tokenizers is used to find the words  \n",
    "        # and punctuation in a string \n",
    "        wordsList = nltk.word_tokenize(i) \n",
    "\n",
    "        # removing stop words from wordList \n",
    "        wordsList = [w for w in wordsList if not w in stop_words]  \n",
    "\n",
    "        #  Using a Tagger. Which is part-of-speech  \n",
    "        # tagger or POS-tagger.  \n",
    "        tagged = nltk.pos_tag(wordsList)\n",
    "        \n",
    "        taggedList.extend(tagged)\n",
    "    \n",
    "    netflix_pos.append(taggedList)"
   ]
  },
  {
   "cell_type": "code",
   "execution_count": 94,
   "metadata": {},
   "outputs": [],
   "source": [
    "disneyplus_pos = []\n",
    "for key in disneyplus_dict.keys():\n",
    "    txt = disneyplus_dict[key][0]\n",
    "    tokenized = sent_tokenize(txt) \n",
    "    taggedList = []\n",
    "    \n",
    "    for i in tokenized:    \n",
    "        # Word tokenizers is used to find the words  \n",
    "        # and punctuation in a string \n",
    "        wordsList = nltk.word_tokenize(i) \n",
    "\n",
    "        # removing stop words from wordList \n",
    "        wordsList = [w for w in wordsList if not w in stop_words]  \n",
    "\n",
    "        #  Using a Tagger. Which is part-of-speech  \n",
    "        # tagger or POS-tagger.  \n",
    "        tagged = nltk.pos_tag(wordsList)\n",
    "        \n",
    "        taggedList.extend(tagged)\n",
    "    \n",
    "    disneyplus_pos.append(taggedList)"
   ]
  },
  {
   "cell_type": "code",
   "execution_count": 95,
   "metadata": {},
   "outputs": [],
   "source": [
    "peacock_pos = []\n",
    "for key in peacock_dict.keys():\n",
    "    txt = peacock_dict[key][0]\n",
    "    tokenized = sent_tokenize(txt) \n",
    "    taggedList = []\n",
    "    \n",
    "    for i in tokenized:    \n",
    "        # Word tokenizers is used to find the words  \n",
    "        # and punctuation in a string \n",
    "        wordsList = nltk.word_tokenize(i) \n",
    "\n",
    "        # removing stop words from wordList \n",
    "        wordsList = [w for w in wordsList if not w in stop_words]  \n",
    "\n",
    "        #  Using a Tagger. Which is part-of-speech  \n",
    "        # tagger or POS-tagger.  \n",
    "        tagged = nltk.pos_tag(wordsList)\n",
    "        \n",
    "        taggedList.extend(tagged)\n",
    "    \n",
    "    peacock_pos.append(taggedList)"
   ]
  },
  {
   "cell_type": "code",
   "execution_count": 97,
   "metadata": {},
   "outputs": [
    {
     "name": "stdout",
     "output_type": "stream",
     "text": [
      "[('Sorry', 'NNP'), ('HBO', 'NNP'), ('I', 'PRP'), ('really', 'RB'), ('love', 'VB'), ('shows', 'NNS'), (',', ','), ('things', 'NNS'), ('I', 'PRP'), ('issues', 'NNS'), ('App', 'NNP'), ('Xbox', 'NNP'), ('One', 'NNP'), ('version', 'NN'), ('app', 'NN'), ('(', '('), ('seems', 'VBZ'), ('like', 'IN'), ('others', 'NNS'), ('problem', 'NN'), (',', ','), ('like', 'IN'), ('Ps4', 'NNP'), (')', ')'), ('My', 'PRP$'), ('List-', 'JJ'), ('always', 'RB'), ('great', 'JJ'), ('function', 'NN'), ('streaming', 'VBG'), ('service', 'NN'), ('.', '.'), ('When', 'WRB'), ('’', 'NN'), ('accessible', 'JJ'), ('...', ':'), ('My', 'PRP$'), ('List', 'NNP'), ('always', 'RB'), ('appear', 'VBP'), ('HBO', 'NNP'), ('Max', 'NNP'), ('.', '.'), ('Additionally', 'RB'), ('’', 'JJ'), ('list', 'NN'), ('things', 'NNS'), ('’', 'NNP'), ('added', 'VBD'), ('.', '.'), ('This', 'DT'), ('frustrating', 'JJ'), ('people', 'NNS'), ('trying', 'VBG'), ('watch', 'NN'), ('something', 'NN'), ('added', 'VBD'), (',', ','), ('search', 'NN'), ('.', '.'), ('Big', 'NNP'), ('.', '.'), ('Episode', 'NNP'), ('Selection-', 'NNP'), ('watching', 'VBG'), ('show', 'NN'), ('sometimes', 'RB'), ('miss', 'JJ'), ('something', 'NN'), (',', ','), ('wether', 'WP'), ('got', 'VBD'), ('busy', 'JJ'), ('around', 'IN'), ('house', 'NN'), ('fell', 'VBD'), ('asleep', 'RB'), (',', ','), ('I', 'PRP'), ('know', 'VBP'), ('I', 'PRP'), ('find', 'VBP'), ('episodes..', 'JJ'), ('I', 'PRP'), ('search', 'VBP'), ('.', '.'), ('But', 'CC'), ('unlike', 'IN'), ('apps', 'NN'), ('I', 'PRP'), ('’', 'VBP'), ('select', 'JJ'), ('another', 'DT'), ('episode', 'NN'), ('episode', 'NN'), ('I', 'PRP'), ('’', 'VBP'), ('.', '.'), ('For', 'IN'), ('example', 'NN'), ('.', '.'), ('Netflix', 'NNP'), ('Xbox', 'NNP'), (',', ','), ('PlayStation', 'NNP'), ('.', '.'), ('While', 'IN'), ('watching', 'VBG'), ('episode', 'NN'), ('hit', 'NN'), ('(', '('), ('X', 'NNP'), ('Xbox', 'NNP'), (')', ')'), ('(', '('), ('square', 'JJ'), ('PS', 'NNP'), (')', ')'), ('view', 'NN'), ('episode', 'JJ'), ('list', 'NN'), ('.', '.'), ('Why', 'WRB'), ('I', 'PRP'), ('need', 'VBP'), ('search', 'NN'), ('.', '.'), ('All', 'DT'), ('I', 'PRP'), ('respect', 'VBP'), ('Swift', 'JJ'), ('Roll-Out', 'NNP'), ('HBO', 'NNP'), ('Max', 'NNP'), (',', ','), ('switching', 'VBG'), ('subscriptions', 'NNS'), ('HBO', 'NNP'), ('HBO', 'NNP'), ('Max', 'NNP'), ('.', '.'), ('But', 'CC'), ('Max', 'NNP'), ('App', 'NNP'), ('Console', 'NNP'), ('Phone', 'NNP'), ('MISSING', 'NNP'), ('vital', 'NN'), ('features', 'NNS'), ('streaming', 'VBG'), ('service', 'NN'), ('.', '.'), ('I', 'PRP'), ('highly', 'RB'), ('suggest', 'VBP'), ('fixing', 'VBG'), ('issues', 'NNS'), ('I', 'PRP'), ('’', 'VBP'), ('want', 'JJ'), ('see', 'NN'), ('app', 'RB'), ('use', 'RB'), ('slow', 'JJ'), ('disappear', 'NN'), ('together', 'RB'), ('.', '.'), ('Even', 'RB'), ('boost', 'NN'), ('advertisements', 'NNS'), (',', ','), ('functions', 'NNS'), ('could', 'MD'), ('end', 'VB'), ('popularity', 'NN'), ('service', 'NN'), ('.', '.'), ('Please', 'NNP'), ('consider', 'VB'), ('thoughts', 'NNS'), ('I', 'PRP'), ('hope', 'VBP'), ('look', 'VB'), ('forward', 'JJ'), ('changes', 'NNS'), ('.', '.')]\n"
     ]
    }
   ],
   "source": [
    "print(hbomax_pos[0])"
   ]
  },
  {
   "cell_type": "code",
   "execution_count": 99,
   "metadata": {},
   "outputs": [
    {
     "name": "stdout",
     "output_type": "stream",
     "text": [
      "[('Omg', 'NNP'), (',', ','), ('political', 'JJ'), ('ads', 'NNS'), ('!', '.'), ('I', 'PRP'), ('brand-new', 'VBP'), ('customer', 'NN'), ('.', '.'), ('I', 'PRP'), ('took', 'VBD'), ('advantage', 'RB'), ('$', '$'), ('0.99', 'CD'), ('offer', 'NN'), ('year', 'NN'), ('.', '.'), ('So', 'RB'), ('far', 'RB'), ('I', 'PRP'), ('quite', 'VBP'), ('happy', 'JJ'), ('service', 'NN'), ('except', 'IN'), ('one', 'CD'), ('thing', 'NN'), ('.', '.'), ('I', 'PRP'), ('’', 'VBP'), ('problem', 'NN'), ('commercials', 'NNS'), ('since', 'IN'), ('I', 'PRP'), ('knew', 'VBD'), ('would', 'MD'), ('happen', 'VB'), ('due', 'JJ'), ('offer', 'NN'), ('price', 'NN'), ('.', '.'), ('What', 'WP'), ('I', 'PRP'), ('’', 'VBP'), ('like', 'IN'), ('commercials', 'NNS'), ('.', '.'), ('It', 'PRP'), ('seems', 'VBZ'), ('like', 'IN'), ('watching', 'VBG'), ('program', 'NN'), ('several', 'JJ'), ('episodes', 'NNS'), (',', ','), ('repetition', 'NN'), ('ads', 'NNS'), (',', ','), ('quite', 'RB'), ('honestly', 'RB'), (',', ','), ('going', 'VBG'), ('get', 'NN'), ('products', 'NNS'), ('.', '.'), ('There', 'EX'), ('older', 'JJR'), ('dramas', 'NN'), ('(', '('), ('probably', 'RB'), ('sitcoms', 'VBZ'), ('’', 'NNP'), ('already', 'RB'), ('syndication', 'NN'), (')', ')'), ('I', 'PRP'), ('would', 'MD'), ('like', 'VB'), ('watch', 'NN'), (',', ','), ('namely', 'RB'), ('“', 'JJ'), ('Cold', 'NNP'), ('Case', 'NNP'), (',', ','), ('”', 'NNP'), ('“', 'NNP'), ('Boston', 'NNP'), ('Public', 'NNP'), (',', ','), ('”', 'NNP'), ('“', 'NNP'), ('Falcon', 'NNP'), ('Crest', 'NNP'), (',', ','), ('”', 'NNP'), ('“', 'NNP'), ('Picket', 'NNP'), ('Fences.', 'NNP'), ('”', 'NNP'), ('I', 'PRP'), ('’', 'VBP'), ('sure', 'JJ'), (',', ','), ('I', 'PRP'), ('come', 'VBP'), ('time', 'NN'), ('.', '.'), ('I', 'PRP'), ('’', 'VBP'), ('keep', 'JJ'), ('watching', 'NN'), ('.', '.'), ('The', 'DT'), ('old', 'JJ'), ('shows', 'VBZ'), ('usually', 'RB'), ('much', 'JJ'), ('better', 'JJR'), ('reality', 'NN'), ('shows', 'NNS'), ('like', 'IN'), ('Kardashians', 'NNP'), ('Real', 'NNP'), ('Housewives', 'VBZ'), ('.', '.')]\n"
     ]
    }
   ],
   "source": [
    "print(hulu_pos[0])"
   ]
  },
  {
   "cell_type": "code",
   "execution_count": 100,
   "metadata": {},
   "outputs": [
    {
     "name": "stdout",
     "output_type": "stream",
     "text": [
      "[('Let', 'VB'), ('start', 'VB'), ('saying', 'VBG'), ('amazing', 'JJ'), ('movie', 'NN'), ('app', 'NN'), ('get', 'NN'), ('.', '.'), ('But', 'CC'), ('people', 'NNS'), ('aware', 'JJ'), ('people', 'NNS'), ('using', 'VBG'), ('Netflix', 'NNP'), ('?', '.'), ('There', 'EX'), ('toddlers', 'NNS'), (',', ','), ('preteens', 'NNS'), (',', ','), ('teens', 'NNS'), (',', ','), ('young', 'JJ'), ('adults', 'NNS'), (',', ','), ('adults', 'NNS'), (',', ','), ('whatever', 'WDT'), ('call', 'VBP'), ('people', 'NNS'), ('little', 'JJ'), ('old', 'JJ'), ('kids', 'NNS'), (',', ','), ('elderly', 'JJ'), ('people', 'NNS'), (',', ','), ('elderly', 'JJ'), ('people', 'NNS'), ('.', '.'), ('We', 'PRP'), ('need', 'VBP'), ('sections', 'NNS'), ('!', '.'), ('!', '.'), ('!', '.'), ('Toddlers', 'NNS'), ('kids', 'NNS'), ('grouped', 'VBD'), ('together', 'RB'), (',', ','), ('preteens', 'NNS'), ('teens', 'NNS'), ('need', 'VBP'), ('section', 'NN'), (',', ','), ('.', '.'), ('No', 'DT'), ('kiddy', 'NN'), ('shows', 'VBZ'), ('maybe', 'RB'), ('couple', 'JJ'), ('cartoons', 'NNS'), ('teenagers', 'NNS'), ('like', 'IN'), (',', ','), ('movies', 'NNS'), ('shows', 'VBZ'), ('cussing', 'VBG'), ('control', 'NN'), ('cussing', 'NN'), (',', ','), ('to-bad', 'JJ'), ('words', 'NNS'), ('.', '.'), ('The', 'DT'), ('private', 'JJ'), ('accounts', 'NNS'), ('good', 'JJ'), ('adults', 'NNS'), (',', ','), ('I', 'PRP'), ('’', 'VBP'), ('account', 'NN'), ('JUST', 'NNP'), ('get', 'VB'), ('pick', 'JJ'), ('toddler', 'NN'), (',', ','), ('kid', 'NN'), (',', ','), ('preteen', 'NN'), (',', ','), ('teen', 'NN'), (',', ','), ('young', 'JJ'), ('adult', 'NN'), (',', ','), ('adult', 'NN'), (',', ','), ('person', 'NN'), ('little', 'JJ'), ('old', 'JJ'), ('kids', 'NNS'), ('name', 'NN'), (',', ','), ('elderly', 'JJ'), ('person', 'NN'), (',', ','), ('elderly', 'JJ'), ('person', 'NN'), ('.', '.'), ('The', 'DT'), ('little', 'JJ'), ('old', 'JJ'), ('kids', 'NNS'), ('people', 'NNS'), ('able', 'JJ'), ('watch', 'NN'), ('adults', 'NNS'), ('section', 'NN'), (',', ','), ('elderly', 'JJ'), ('people', 'NNS'), ('elderly', 'JJ'), ('people', 'NNS'), ('channel', 'VBP'), ('without', 'IN'), ('kiddy', 'NNP'), ('stuff', 'NN'), ('shows', 'VBZ'), ('little', 'JJ'), ('cussing', 'NN'), ('.', '.'), ('You', 'PRP'), ('also', 'RB'), ('able', 'JJ'), ('change', 'NN'), ('age', 'NN'), (',', ','), ('time', 'NN'), ('grow', 'NN'), ('might', 'MD'), ('child', 'VB'), ('etc', 'NN'), ('.', '.'), ('watching', 'VBG'), ('device', 'NN'), ('.', '.'), ('Thank', 'NNP'), ('time', 'NN'), ('consideration', 'NN'), ('!', '.'), ('-FireStar', 'NN')]\n"
     ]
    }
   ],
   "source": [
    "print(netflix_pos[0])"
   ]
  },
  {
   "cell_type": "code",
   "execution_count": 101,
   "metadata": {},
   "outputs": [
    {
     "name": "stdout",
     "output_type": "stream",
     "text": [
      "[('My', 'PRP$'), ('entire', 'JJ'), ('family', 'NN'), ('enjoying', 'VBG'), ('variety', 'NN'), ('great', 'JJ'), ('content', 'NN'), ('.', '.'), ('The', 'DT'), ('service', 'NN'), ('also', 'RB'), ('steady', 'JJ'), ('reliable', 'JJ'), ('us', 'PRP'), (',', ','), ('one', 'CD'), ('two', 'CD'), ('glitches', 'NNS'), ('months', 'NNS'), ('.', '.'), ('However', 'RB'), (',', ','), ('app/', 'RB'), ('Apple', 'NNP'), ('TV', 'NNP'), ('interface', 'NN'), ('could', 'MD'), ('use', 'VB'), ('improvement', 'NN'), ('...', ':'), ('My', 'NNP'), ('kids', 'NNS'), ('young', 'JJ'), ('enough', 'RB'), ('I', 'PRP'), (\"n't\", 'RB'), ('really', 'RB'), ('want', 'VB'), ('complete', 'JJ'), ('access', 'NN'), ('.', '.'), ('Its', 'PRP$'), ('great', 'JJ'), ('profiles', 'NNS'), ('limits', 'NNS'), (',', ','), ('exists', 'VBZ'), ('I', 'PRP'), (\"'ve\", 'VBP'), ('yet', 'RB'), ('find', 'VB'), ('way', 'NN'), ('prevent', 'NN'), ('using', 'VBG'), ('profile', 'NN'), ('.', '.'), ('(', '('), ('We', 'PRP'), ('mostly', 'RB'), ('steam', 'VBP'), ('via', 'IN'), ('Apple', 'NNP'), ('TV', 'NNP'), ('case', 'NN'), ('differs', 'NNS'), (')', ')'), ('Further', 'NNP'), (',', ','), ('little', 'JJ'), ('useful', 'JJ'), ('history', 'NN'), ('.', '.'), ('Yes', 'UH'), ('continue', 'VBP'), ('watching', 'VBG'), ('tweaked', 'VBD'), (',', ','), ('still', 'RB'), ('far', 'RB'), ('enough', 'RB'), ('.', '.'), ('How', 'WRB'), ('hard', 'JJ'), ('world', 'NN'), ('provide', 'VBP'), ('simple', 'JJ'), ('list', 'NN'), ('thumbnails', 'NNS'), ('everything', 'NN'), ('profile', 'NN'), ('watched', 'VBD'), (',', ','), ('preferably', 'RB'), ('sortable', 'JJ'), ('least', 'JJS'), ('reverse', 'JJ'), ('chronological', 'JJ'), ('order', 'NN'), ('?', '.'), ('(', '('), ('As', 'IN'), ('software', 'NN'), ('developer', 'NN'), (\"'s\", 'POS'), ('rhetorical', 'JJ'), ('.', '.'), ('Its', 'PRP$'), ('easy', 'JJ'), ('!', '.'), (')', ')'), ('That', 'DT'), ('would', 'MD'), ('let', 'VB'), ('monitor', 'VB'), ('kids', 'NNS'), ('use', 'VBP'), ('profile', 'NN'), ('(', '('), (\"'s\", 'POS'), ('protected', 'VBN'), (')', ')'), ('well', 'RB'), ('see', 'VB'), (\"'re\", 'VBP'), ('watching', 'VBG'), ('profiles', 'NNS'), ('.', '.'), ('It', 'PRP'), ('also', 'RB'), ('hard', 'JJ'), ('add', 'NN'), ('watched', 'VBD'), ('count', 'NN'), ('last', 'JJ'), ('watched', 'JJ'), ('date', 'NN'), ('show', 'NN'), ('I', 'PRP'), ('go', 'VBP'), ('details', 'NNS'), (',', ','), ('progress', 'NN'), ('bar', 'NN'), ('anything', 'NN'), ('partially', 'RB'), ('watched', 'VBD'), ('.', '.'), ('This', 'DT'), ('basic', 'JJ'), ('stuff', 'NN'), ('already', 'RB'), ('database', 'NN'), ('.', '.'), ('Let', 'VB'), ('see', 'VB'), ('please', 'VB'), ('!', '.')]\n"
     ]
    }
   ],
   "source": [
    "print(disneyplus_pos[0])"
   ]
  },
  {
   "cell_type": "code",
   "execution_count": 102,
   "metadata": {},
   "outputs": [
    {
     "name": "stdout",
     "output_type": "stream",
     "text": [
      "[('I', 'PRP'), ('day', 'NN'), ('1', 'CD'), ('user', 'NN'), (',', ','), ('waited', 'VBD'), ('months', 'NNS'), ('app', 'IN'), ('first', 'JJ'), ('never', 'RB'), ('issues', 'NNS'), ('Apple', 'NNP'), ('TV', 'NNP'), ('iPhone', 'NN'), ('’', 'NN'), ('constant', 'JJ'), ('errors', 'NNS'), ('.', '.'), ('Most', 'JJS'), ('recent', 'JJ'), ('solid', 'JJ'), ('black', 'JJ'), ('screen', 'NN'), ('outline', 'JJ'), ('channel', 'NN'), ('schedule', 'NN'), ('instead', 'RB'), ('puss', 'JJ'), ('boots', 'NNS'), ('error', 'VBP'), ('screen', 'JJ'), ('occasionally', 'RB'), ('.', '.'), ('They', 'PRP'), ('also', 'RB'), ('took', 'VBD'), ('away', 'RP'), ('office', 'NN'), ('channel', 'NN'), ('quietly', 'RB'), ('couple', 'JJ'), ('days', 'NNS'), ('ago', 'RB'), ('.', '.'), ('Changed', 'VBN'), ('reality', 'NN'), ('tv', 'NN'), ('“', 'NNP'), ('win', 'VBZ'), ('”', 'JJ'), ('channel', 'NN'), ('(', '('), ('huge', 'JJ'), ('variety', 'NN'), ('programming', 'VBG'), (')', ')'), ('deal', 'NN'), ('deal', 'NN'), ('week', 'NN'), ('non', 'RB'), ('stop', 'VBD'), ('24/7', 'CD'), ('.', '.'), ('Just', 'RB'), ('rename', 'JJ'), ('channel', 'NNS'), ('already', 'RB'), ('nearly', 'RB'), ('250', 'CD'), ('episodes', 'NNS'), ('straight', 'JJ'), ('’', 'NNP'), ('officially', 'RB'), ('deal', 'VB'), ('deal', 'NN'), ('channel', 'NN'), ('!', '.'), ('I', 'PRP'), ('assumed', 'VBD'), ('okay', 'RB'), ('maybe', 'RB'), ('play', 'VB'), ('episode', 'JJ'), ('series', 'NN'), ('I', 'PRP'), ('get', 'VBP'), ('see', 'VB'), ('something', 'NN'), ('new', 'JJ'), (',', ','), ('sadly', 'RB'), ('stared', 'VBD'), ('episode', 'JJ'), ('1', 'CD'), ('.', '.'), ('Same', 'NNP'), ('episodes', 'VBZ'), ('kitchen', 'NN'), ('nightmares', 'NNS'), ('(', '('), ('season', 'NN'), ('1', 'CD'), (')', ')'), ('playing', 'NN'), ('non', 'JJ'), ('stop', 'VB'), ('5', 'CD'), ('days', 'NNS'), ('’', 'NNP'), ('KN', 'NNP'), ('evening', 'NN'), ('time', 'NN'), ('block', 'NN'), ('profit', 'NN'), ('season', 'NN'), ('1', 'CD'), ('.', '.'), ('This', 'DT'), ('’', 'NN'), ('used', 'VBN'), ('case', 'NN'), ('!', '.'), ('There', 'EX'), ('would', 'MD'), ('mix', 'VB'), ('several', 'JJ'), ('seasons', 'NNS'), ('.', '.'), ('I', 'PRP'), ('thinking', 'VBG'), ('subscribing', 'VBG'), ('pretty', 'RB'), ('major', 'JJ'), ('sudden', 'JJ'), ('changes', 'NNS'), ('make', 'VBP'), ('sense', 'NN'), ('.', '.'), ('They', 'PRP'), ('also', 'RB'), ('I', 'PRP'), ('used', 'VBD'), ('app', 'RB'), ('99', 'CD'), ('%', 'NN'), ('time', 'NN'), ('.', '.'), ('Went', 'JJ'), ('#', '#'), ('1', 'CD'), ('app', 'NN'), ('deleting', 'VBG'), ('resubscribing', 'VBG'), ('CBS', 'NNP'), ('access', 'NN'), ('instead', 'RB'), ('taking', 'VBG'), ('away', 'RP'), ('content', 'NN'), ('added', 'VBD'), ('200', 'CD'), ('season', 'NN'), ('different', 'JJ'), ('shows', 'NNS'), ('last', 'JJ'), ('week', 'NN'), ('.', '.')]\n"
     ]
    }
   ],
   "source": [
    "print(peacock_pos[0])"
   ]
  },
  {
   "cell_type": "code",
   "execution_count": null,
   "metadata": {},
   "outputs": [],
   "source": []
  }
 ],
 "metadata": {
  "kernelspec": {
   "display_name": "Python 3",
   "language": "python",
   "name": "python3"
  },
  "language_info": {
   "codemirror_mode": {
    "name": "ipython",
    "version": 3
   },
   "file_extension": ".py",
   "mimetype": "text/x-python",
   "name": "python",
   "nbconvert_exporter": "python",
   "pygments_lexer": "ipython3",
   "version": "3.7.7"
  }
 },
 "nbformat": 4,
 "nbformat_minor": 4
}
