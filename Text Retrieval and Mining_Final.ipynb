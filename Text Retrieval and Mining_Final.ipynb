{
 "cells": [
  {
   "cell_type": "markdown",
   "metadata": {},
   "source": [
    "### Internet Customer Analytics - Team Project\n",
    "#### Text Retrieval and Mining\n",
    "##### Team: Francisco Valle, Pranay Singla, Pedro Pablo Arrese"
   ]
  },
  {
   "cell_type": "code",
   "execution_count": 1,
   "metadata": {},
   "outputs": [],
   "source": [
    "import numpy as np\n",
    "import pandas as pd\n",
    "from app_store_scraper import AppStore # We will use this library to scrape the reviews for each app. \n",
    "import time"
   ]
  },
  {
   "cell_type": "code",
   "execution_count": 2,
   "metadata": {},
   "outputs": [
    {
     "name": "stderr",
     "output_type": "stream",
     "text": [
      "2020-10-22 19:05:27,978 [INFO] AppStore - Initialised: AppStore('us', 'hbomax', 971265422)\n",
      "2020-10-22 19:05:27,980 [INFO] AppStore - Ready to fetch reviews from: https://apps.apple.com/us/app/hbomax/id971265422\n",
      "2020-10-22 19:05:28,712 [INFO] AppStore - Initialised: AppStore('us', 'hulu', 376510438)\n",
      "2020-10-22 19:05:28,715 [INFO] AppStore - Ready to fetch reviews from: https://apps.apple.com/us/app/hulu/id376510438\n",
      "2020-10-22 19:05:29,619 [INFO] AppStore - Initialised: AppStore('us', 'netflix', 363590051)\n",
      "2020-10-22 19:05:29,620 [INFO] AppStore - Ready to fetch reviews from: https://apps.apple.com/us/app/netflix/id363590051\n",
      "2020-10-22 19:05:30,405 [INFO] AppStore - Initialised: AppStore('us', 'disneyplus', 1446075923)\n",
      "2020-10-22 19:05:30,406 [INFO] AppStore - Ready to fetch reviews from: https://apps.apple.com/us/app/disneyplus/id1446075923\n",
      "2020-10-22 19:05:31,626 [INFO] AppStore - Initialised: AppStore('us', 'peacock', 1508186374)\n",
      "2020-10-22 19:05:31,627 [INFO] AppStore - Ready to fetch reviews from: https://apps.apple.com/us/app/peacock/id1508186374\n"
     ]
    }
   ],
   "source": [
    "# Selecting the 5 streaming apps we will analyze \n",
    "hbomax = AppStore(country='us', app_name='hbomax', app_id=971265422)\n",
    "hulu = AppStore(country='us', app_name='hulu', app_id=376510438)\n",
    "netflix = AppStore(country='us', app_name='netflix', app_id=363590051)\n",
    "disneyplus = AppStore(country='us', app_name='disneyplus', app_id=1446075923)\n",
    "peacock = AppStore(country='us', app_name='peacock', app_id=1508186374)"
   ]
  },
  {
   "cell_type": "code",
   "execution_count": 3,
   "metadata": {},
   "outputs": [
    {
     "name": "stderr",
     "output_type": "stream",
     "text": [
      "2020-10-22 19:05:32,556 [INFO] AppStore - [id:971265422] Fetched 100 reviews (100 fetched in total)\n",
      "2020-10-22 19:05:38,327 [INFO] AppStore - [id:971265422] Fetched 100 reviews (200 fetched in total)\n",
      "2020-10-22 19:05:44,081 [INFO] AppStore - [id:971265422] Fetched 100 reviews (300 fetched in total)\n",
      "2020-10-22 19:05:49,808 [INFO] AppStore - [id:971265422] Fetched 100 reviews (400 fetched in total)\n",
      "2020-10-22 19:05:55,754 [INFO] AppStore - [id:971265422] Fetched 100 reviews (500 fetched in total)\n",
      "2020-10-22 19:06:01,455 [INFO] AppStore - [id:971265422] Fetched 100 reviews (600 fetched in total)\n",
      "2020-10-22 19:06:07,148 [INFO] AppStore - [id:971265422] Fetched 100 reviews (700 fetched in total)\n",
      "2020-10-22 19:06:12,816 [INFO] AppStore - [id:971265422] Fetched 100 reviews (800 fetched in total)\n",
      "2020-10-22 19:06:18,570 [INFO] AppStore - [id:971265422] Fetched 100 reviews (900 fetched in total)\n",
      "2020-10-22 19:06:24,233 [INFO] AppStore - [id:971265422] Fetched 100 reviews (1000 fetched in total)\n"
     ]
    }
   ],
   "source": [
    "# HBO Max\n",
    "while len(hbomax.reviews) < 1000:\n",
    "    hbomax.review(how_many=100)\n",
    "    time.sleep(5)"
   ]
  },
  {
   "cell_type": "code",
   "execution_count": 4,
   "metadata": {},
   "outputs": [],
   "source": [
    "hbomax_df = pd.DataFrame(hbomax.reviews)    "
   ]
  },
  {
   "cell_type": "code",
   "execution_count": 5,
   "metadata": {},
   "outputs": [],
   "source": [
    "del hbomax_df['developerResponse']\n",
    "hbomax_df.drop_duplicates(subset = 'review',inplace = True)\n",
    "hbomax_df = hbomax_df.iloc[:1000,:]\n",
    "hbomax_df = hbomax_df[['userName','review','rating']]"
   ]
  },
  {
   "cell_type": "code",
   "execution_count": 6,
   "metadata": {},
   "outputs": [
    {
     "data": {
      "text/html": [
       "<div>\n",
       "<style scoped>\n",
       "    .dataframe tbody tr th:only-of-type {\n",
       "        vertical-align: middle;\n",
       "    }\n",
       "\n",
       "    .dataframe tbody tr th {\n",
       "        vertical-align: top;\n",
       "    }\n",
       "\n",
       "    .dataframe thead th {\n",
       "        text-align: right;\n",
       "    }\n",
       "</style>\n",
       "<table border=\"1\" class=\"dataframe\">\n",
       "  <thead>\n",
       "    <tr style=\"text-align: right;\">\n",
       "      <th></th>\n",
       "      <th>userName</th>\n",
       "      <th>review</th>\n",
       "      <th>rating</th>\n",
       "    </tr>\n",
       "  </thead>\n",
       "  <tbody>\n",
       "    <tr>\n",
       "      <td>0</td>\n",
       "      <td>Goldentoast01</td>\n",
       "      <td>Sorry HBO I really love your shows, but here a...</td>\n",
       "      <td>3</td>\n",
       "    </tr>\n",
       "    <tr>\n",
       "      <td>1</td>\n",
       "      <td>newb910</td>\n",
       "      <td>I love the content they have. Friends, Fresh P...</td>\n",
       "      <td>2</td>\n",
       "    </tr>\n",
       "    <tr>\n",
       "      <td>2</td>\n",
       "      <td>S.C. Watts</td>\n",
       "      <td>I’ve only had the app for a couple of weeks bu...</td>\n",
       "      <td>2</td>\n",
       "    </tr>\n",
       "    <tr>\n",
       "      <td>3</td>\n",
       "      <td>Isome2000</td>\n",
       "      <td>I love the idea of HBO streaming service. Sinc...</td>\n",
       "      <td>2</td>\n",
       "    </tr>\n",
       "    <tr>\n",
       "      <td>4</td>\n",
       "      <td>Madelinebelton292016</td>\n",
       "      <td>The app seems to work for the most part, but I...</td>\n",
       "      <td>3</td>\n",
       "    </tr>\n",
       "  </tbody>\n",
       "</table>\n",
       "</div>"
      ],
      "text/plain": [
       "               userName                                             review  \\\n",
       "0         Goldentoast01  Sorry HBO I really love your shows, but here a...   \n",
       "1               newb910  I love the content they have. Friends, Fresh P...   \n",
       "2            S.C. Watts  I’ve only had the app for a couple of weeks bu...   \n",
       "3             Isome2000  I love the idea of HBO streaming service. Sinc...   \n",
       "4  Madelinebelton292016  The app seems to work for the most part, but I...   \n",
       "\n",
       "   rating  \n",
       "0       3  \n",
       "1       2  \n",
       "2       2  \n",
       "3       2  \n",
       "4       3  "
      ]
     },
     "execution_count": 6,
     "metadata": {},
     "output_type": "execute_result"
    }
   ],
   "source": [
    "hbomax_df.head()"
   ]
  },
  {
   "cell_type": "code",
   "execution_count": 7,
   "metadata": {},
   "outputs": [
    {
     "name": "stderr",
     "output_type": "stream",
     "text": [
      "2020-10-22 19:06:30,160 [INFO] AppStore - [id:376510438] Fetched 100 reviews (100 fetched in total)\n",
      "2020-10-22 19:06:36,203 [INFO] AppStore - [id:376510438] Fetched 100 reviews (200 fetched in total)\n",
      "2020-10-22 19:06:42,029 [INFO] AppStore - [id:376510438] Fetched 100 reviews (300 fetched in total)\n",
      "2020-10-22 19:06:47,800 [INFO] AppStore - [id:376510438] Fetched 100 reviews (400 fetched in total)\n",
      "2020-10-22 19:06:53,710 [INFO] AppStore - [id:376510438] Fetched 100 reviews (500 fetched in total)\n",
      "2020-10-22 19:06:59,499 [INFO] AppStore - [id:376510438] Fetched 100 reviews (600 fetched in total)\n",
      "2020-10-22 19:07:05,521 [INFO] AppStore - [id:376510438] Fetched 100 reviews (700 fetched in total)\n",
      "2020-10-22 19:07:11,445 [INFO] AppStore - [id:376510438] Fetched 100 reviews (800 fetched in total)\n",
      "2020-10-22 19:07:17,235 [INFO] AppStore - [id:376510438] Fetched 100 reviews (900 fetched in total)\n",
      "2020-10-22 19:07:22,704 [INFO] AppStore - [id:376510438] Fetched 100 reviews (1000 fetched in total)\n"
     ]
    }
   ],
   "source": [
    "# Hulu\n",
    "while len(hulu.reviews) < 1000:\n",
    "    hulu.review(how_many=100)\n",
    "    time.sleep(5)"
   ]
  },
  {
   "cell_type": "code",
   "execution_count": 8,
   "metadata": {},
   "outputs": [],
   "source": [
    "hulu_df = pd.DataFrame(hulu.reviews)    "
   ]
  },
  {
   "cell_type": "code",
   "execution_count": 9,
   "metadata": {},
   "outputs": [],
   "source": [
    "del hulu_df['developerResponse']\n",
    "hulu_df.drop_duplicates(subset='review', inplace = True)\n",
    "hulu_df = hulu_df.iloc[:1000,:]"
   ]
  },
  {
   "cell_type": "code",
   "execution_count": 10,
   "metadata": {},
   "outputs": [],
   "source": [
    "hulu_df = hulu_df[['userName','review','rating']]"
   ]
  },
  {
   "cell_type": "code",
   "execution_count": 11,
   "metadata": {},
   "outputs": [
    {
     "data": {
      "text/html": [
       "<div>\n",
       "<style scoped>\n",
       "    .dataframe tbody tr th:only-of-type {\n",
       "        vertical-align: middle;\n",
       "    }\n",
       "\n",
       "    .dataframe tbody tr th {\n",
       "        vertical-align: top;\n",
       "    }\n",
       "\n",
       "    .dataframe thead th {\n",
       "        text-align: right;\n",
       "    }\n",
       "</style>\n",
       "<table border=\"1\" class=\"dataframe\">\n",
       "  <thead>\n",
       "    <tr style=\"text-align: right;\">\n",
       "      <th></th>\n",
       "      <th>userName</th>\n",
       "      <th>review</th>\n",
       "      <th>rating</th>\n",
       "    </tr>\n",
       "  </thead>\n",
       "  <tbody>\n",
       "    <tr>\n",
       "      <td>0</td>\n",
       "      <td>Great Speller</td>\n",
       "      <td>Omg, not political ads!\\nI am a brand-new cust...</td>\n",
       "      <td>4</td>\n",
       "    </tr>\n",
       "    <tr>\n",
       "      <td>1</td>\n",
       "      <td>wildbellelover</td>\n",
       "      <td>as a new user i of course decided to go with t...</td>\n",
       "      <td>1</td>\n",
       "    </tr>\n",
       "    <tr>\n",
       "      <td>2</td>\n",
       "      <td>_tinydancer_</td>\n",
       "      <td>You would think for app with this many subscri...</td>\n",
       "      <td>2</td>\n",
       "    </tr>\n",
       "    <tr>\n",
       "      <td>3</td>\n",
       "      <td>Poshafied!</td>\n",
       "      <td>At first I loved this app then after using it ...</td>\n",
       "      <td>2</td>\n",
       "    </tr>\n",
       "    <tr>\n",
       "      <td>4</td>\n",
       "      <td>Alise Leonardo</td>\n",
       "      <td>Buffering and Glitches•\\n\\nThe app has a nice ...</td>\n",
       "      <td>2</td>\n",
       "    </tr>\n",
       "  </tbody>\n",
       "</table>\n",
       "</div>"
      ],
      "text/plain": [
       "         userName                                             review  rating\n",
       "0   Great Speller  Omg, not political ads!\\nI am a brand-new cust...       4\n",
       "1  wildbellelover  as a new user i of course decided to go with t...       1\n",
       "2    _tinydancer_  You would think for app with this many subscri...       2\n",
       "3      Poshafied!  At first I loved this app then after using it ...       2\n",
       "4  Alise Leonardo  Buffering and Glitches•\\n\\nThe app has a nice ...       2"
      ]
     },
     "execution_count": 11,
     "metadata": {},
     "output_type": "execute_result"
    }
   ],
   "source": [
    "hulu_df.head()"
   ]
  },
  {
   "cell_type": "code",
   "execution_count": 12,
   "metadata": {},
   "outputs": [
    {
     "name": "stderr",
     "output_type": "stream",
     "text": [
      "2020-10-22 19:07:28,135 [INFO] AppStore - [id:363590051] Fetched 100 reviews (100 fetched in total)\n",
      "2020-10-22 19:07:33,393 [INFO] AppStore - [id:363590051] Fetched 100 reviews (200 fetched in total)\n",
      "2020-10-22 19:07:38,543 [INFO] AppStore - [id:363590051] Fetched 100 reviews (300 fetched in total)\n",
      "2020-10-22 19:07:43,691 [INFO] AppStore - [id:363590051] Fetched 100 reviews (400 fetched in total)\n",
      "2020-10-22 19:07:48,874 [INFO] AppStore - [id:363590051] Fetched 100 reviews (500 fetched in total)\n",
      "2020-10-22 19:07:54,618 [INFO] AppStore - [id:363590051] Fetched 100 reviews (600 fetched in total)\n",
      "2020-10-22 19:08:00,602 [INFO] AppStore - [id:363590051] Fetched 100 reviews (700 fetched in total)\n",
      "2020-10-22 19:08:06,390 [INFO] AppStore - [id:363590051] Fetched 100 reviews (800 fetched in total)\n",
      "2020-10-22 19:08:11,554 [INFO] AppStore - [id:363590051] Fetched 100 reviews (900 fetched in total)\n",
      "2020-10-22 19:08:16,752 [INFO] AppStore - [id:363590051] Fetched 100 reviews (1000 fetched in total)\n"
     ]
    }
   ],
   "source": [
    "# Netflix\n",
    "while len(netflix.reviews) < 1000:\n",
    "    netflix.review(how_many=100)\n",
    "    time.sleep(5)"
   ]
  },
  {
   "cell_type": "code",
   "execution_count": 13,
   "metadata": {},
   "outputs": [],
   "source": [
    "netflix_df = pd.DataFrame(netflix.reviews)"
   ]
  },
  {
   "cell_type": "code",
   "execution_count": 14,
   "metadata": {},
   "outputs": [],
   "source": [
    "netflix_df.drop_duplicates(subset='review', inplace = True)\n",
    "netflix_df = netflix_df.iloc[:1000,:]"
   ]
  },
  {
   "cell_type": "code",
   "execution_count": 15,
   "metadata": {},
   "outputs": [],
   "source": [
    "netflix_df = netflix_df[['userName','review','rating']]"
   ]
  },
  {
   "cell_type": "code",
   "execution_count": 16,
   "metadata": {},
   "outputs": [
    {
     "data": {
      "text/html": [
       "<div>\n",
       "<style scoped>\n",
       "    .dataframe tbody tr th:only-of-type {\n",
       "        vertical-align: middle;\n",
       "    }\n",
       "\n",
       "    .dataframe tbody tr th {\n",
       "        vertical-align: top;\n",
       "    }\n",
       "\n",
       "    .dataframe thead th {\n",
       "        text-align: right;\n",
       "    }\n",
       "</style>\n",
       "<table border=\"1\" class=\"dataframe\">\n",
       "  <thead>\n",
       "    <tr style=\"text-align: right;\">\n",
       "      <th></th>\n",
       "      <th>userName</th>\n",
       "      <th>review</th>\n",
       "      <th>rating</th>\n",
       "    </tr>\n",
       "  </thead>\n",
       "  <tbody>\n",
       "    <tr>\n",
       "      <td>0</td>\n",
       "      <td>🌪☄️🔥FireStar🔥☄️🌪</td>\n",
       "      <td>Let me start off by saying that this is an ama...</td>\n",
       "      <td>4</td>\n",
       "    </tr>\n",
       "    <tr>\n",
       "      <td>1</td>\n",
       "      <td>subways watching</td>\n",
       "      <td>Netflix is a GREAT app, I’ve probably been usi...</td>\n",
       "      <td>3</td>\n",
       "    </tr>\n",
       "    <tr>\n",
       "      <td>2</td>\n",
       "      <td>Cinder2014</td>\n",
       "      <td>Alright, Netflix is awesome! It’s so easy to s...</td>\n",
       "      <td>3</td>\n",
       "    </tr>\n",
       "    <tr>\n",
       "      <td>3</td>\n",
       "      <td>Mos Lyke</td>\n",
       "      <td>Please remove audio description feature by def...</td>\n",
       "      <td>4</td>\n",
       "    </tr>\n",
       "    <tr>\n",
       "      <td>4</td>\n",
       "      <td>kro817</td>\n",
       "      <td>I love Netflix and admittedly have things stre...</td>\n",
       "      <td>3</td>\n",
       "    </tr>\n",
       "  </tbody>\n",
       "</table>\n",
       "</div>"
      ],
      "text/plain": [
       "           userName                                             review  rating\n",
       "0  🌪☄️🔥FireStar🔥☄️🌪  Let me start off by saying that this is an ama...       4\n",
       "1  subways watching  Netflix is a GREAT app, I’ve probably been usi...       3\n",
       "2        Cinder2014  Alright, Netflix is awesome! It’s so easy to s...       3\n",
       "3          Mos Lyke  Please remove audio description feature by def...       4\n",
       "4            kro817  I love Netflix and admittedly have things stre...       3"
      ]
     },
     "execution_count": 16,
     "metadata": {},
     "output_type": "execute_result"
    }
   ],
   "source": [
    "netflix_df.head()"
   ]
  },
  {
   "cell_type": "code",
   "execution_count": 17,
   "metadata": {},
   "outputs": [
    {
     "name": "stderr",
     "output_type": "stream",
     "text": [
      "2020-10-22 19:08:22,088 [INFO] AppStore - [id:1446075923] Fetched 100 reviews (100 fetched in total)\n",
      "2020-10-22 19:08:27,309 [INFO] AppStore - [id:1446075923] Fetched 100 reviews (200 fetched in total)\n",
      "2020-10-22 19:08:32,557 [INFO] AppStore - [id:1446075923] Fetched 100 reviews (300 fetched in total)\n",
      "2020-10-22 19:08:38,014 [INFO] AppStore - [id:1446075923] Fetched 100 reviews (400 fetched in total)\n",
      "2020-10-22 19:08:43,341 [INFO] AppStore - [id:1446075923] Fetched 100 reviews (500 fetched in total)\n",
      "2020-10-22 19:08:48,528 [INFO] AppStore - [id:1446075923] Fetched 100 reviews (600 fetched in total)\n",
      "2020-10-22 19:08:53,676 [INFO] AppStore - [id:1446075923] Fetched 100 reviews (700 fetched in total)\n",
      "2020-10-22 19:08:58,999 [INFO] AppStore - [id:1446075923] Fetched 100 reviews (800 fetched in total)\n",
      "2020-10-22 19:09:04,168 [INFO] AppStore - [id:1446075923] Fetched 100 reviews (900 fetched in total)\n",
      "2020-10-22 19:09:09,366 [INFO] AppStore - [id:1446075923] Fetched 100 reviews (1000 fetched in total)\n"
     ]
    }
   ],
   "source": [
    "# DisneyPlus\n",
    "while len(disneyplus.reviews) < 1000:\n",
    "    disneyplus.review(how_many=100)\n",
    "    time.sleep(5)"
   ]
  },
  {
   "cell_type": "code",
   "execution_count": 18,
   "metadata": {},
   "outputs": [],
   "source": [
    "disneyplus_df = pd.DataFrame(disneyplus.reviews)"
   ]
  },
  {
   "cell_type": "code",
   "execution_count": 19,
   "metadata": {},
   "outputs": [],
   "source": [
    "del disneyplus_df['developerResponse']\n",
    "disneyplus_df.drop_duplicates(subset='review', inplace = True)\n",
    "disneyplus_df = disneyplus_df.iloc[:1000,:]"
   ]
  },
  {
   "cell_type": "code",
   "execution_count": 20,
   "metadata": {},
   "outputs": [],
   "source": [
    "disneyplus_df = disneyplus_df[['userName','review','rating']]"
   ]
  },
  {
   "cell_type": "code",
   "execution_count": 21,
   "metadata": {},
   "outputs": [
    {
     "data": {
      "text/html": [
       "<div>\n",
       "<style scoped>\n",
       "    .dataframe tbody tr th:only-of-type {\n",
       "        vertical-align: middle;\n",
       "    }\n",
       "\n",
       "    .dataframe tbody tr th {\n",
       "        vertical-align: top;\n",
       "    }\n",
       "\n",
       "    .dataframe thead th {\n",
       "        text-align: right;\n",
       "    }\n",
       "</style>\n",
       "<table border=\"1\" class=\"dataframe\">\n",
       "  <thead>\n",
       "    <tr style=\"text-align: right;\">\n",
       "      <th></th>\n",
       "      <th>userName</th>\n",
       "      <th>review</th>\n",
       "      <th>rating</th>\n",
       "    </tr>\n",
       "  </thead>\n",
       "  <tbody>\n",
       "    <tr>\n",
       "      <td>0</td>\n",
       "      <td>Rockport, Maine</td>\n",
       "      <td>I waited for a while before subscribing from D...</td>\n",
       "      <td>4</td>\n",
       "    </tr>\n",
       "    <tr>\n",
       "      <td>1</td>\n",
       "      <td>avabella</td>\n",
       "      <td>Disney+ is a pretty good app especially for ha...</td>\n",
       "      <td>3</td>\n",
       "    </tr>\n",
       "    <tr>\n",
       "      <td>2</td>\n",
       "      <td>Jordan Boisley</td>\n",
       "      <td>The have a lot of great stuff in the app but t...</td>\n",
       "      <td>3</td>\n",
       "    </tr>\n",
       "    <tr>\n",
       "      <td>3</td>\n",
       "      <td>=emuJuice=</td>\n",
       "      <td>My entire family has been enjoying the variety...</td>\n",
       "      <td>4</td>\n",
       "    </tr>\n",
       "    <tr>\n",
       "      <td>4</td>\n",
       "      <td>troicole</td>\n",
       "      <td>I love how they have ALL the Disney Chanel Ori...</td>\n",
       "      <td>4</td>\n",
       "    </tr>\n",
       "  </tbody>\n",
       "</table>\n",
       "</div>"
      ],
      "text/plain": [
       "          userName                                             review  rating\n",
       "0  Rockport, Maine  I waited for a while before subscribing from D...       4\n",
       "1         avabella  Disney+ is a pretty good app especially for ha...       3\n",
       "2   Jordan Boisley  The have a lot of great stuff in the app but t...       3\n",
       "3       =emuJuice=  My entire family has been enjoying the variety...       4\n",
       "4         troicole  I love how they have ALL the Disney Chanel Ori...       4"
      ]
     },
     "execution_count": 21,
     "metadata": {},
     "output_type": "execute_result"
    }
   ],
   "source": [
    "disneyplus_df.head()"
   ]
  },
  {
   "cell_type": "code",
   "execution_count": 22,
   "metadata": {},
   "outputs": [
    {
     "name": "stderr",
     "output_type": "stream",
     "text": [
      "2020-10-22 19:09:14,670 [INFO] AppStore - [id:1508186374] Fetched 100 reviews (100 fetched in total)\n",
      "2020-10-22 19:09:19,857 [INFO] AppStore - [id:1508186374] Fetched 100 reviews (200 fetched in total)\n",
      "2020-10-22 19:09:25,069 [INFO] AppStore - [id:1508186374] Fetched 100 reviews (300 fetched in total)\n",
      "2020-10-22 19:09:30,373 [INFO] AppStore - [id:1508186374] Fetched 100 reviews (400 fetched in total)\n",
      "2020-10-22 19:09:35,593 [INFO] AppStore - [id:1508186374] Fetched 100 reviews (500 fetched in total)\n",
      "2020-10-22 19:09:40,764 [INFO] AppStore - [id:1508186374] Fetched 100 reviews (600 fetched in total)\n",
      "2020-10-22 19:09:45,938 [INFO] AppStore - [id:1508186374] Fetched 100 reviews (700 fetched in total)\n",
      "2020-10-22 19:09:51,110 [INFO] AppStore - [id:1508186374] Fetched 100 reviews (800 fetched in total)\n",
      "2020-10-22 19:09:56,263 [INFO] AppStore - [id:1508186374] Fetched 100 reviews (900 fetched in total)\n",
      "2020-10-22 19:10:01,437 [INFO] AppStore - [id:1508186374] Fetched 100 reviews (1000 fetched in total)\n"
     ]
    }
   ],
   "source": [
    "# Peacock\n",
    "while len(peacock.reviews) < 1000:\n",
    "    peacock.review(how_many=100)\n",
    "    time.sleep(5)"
   ]
  },
  {
   "cell_type": "code",
   "execution_count": 23,
   "metadata": {},
   "outputs": [],
   "source": [
    "peacock_df = pd.DataFrame(peacock.reviews)"
   ]
  },
  {
   "cell_type": "code",
   "execution_count": 24,
   "metadata": {},
   "outputs": [],
   "source": [
    "del peacock_df['developerResponse']\n",
    "peacock_df.drop_duplicates(subset='review', inplace = True)\n",
    "peacock_df = peacock_df.iloc[:1000,:]"
   ]
  },
  {
   "cell_type": "code",
   "execution_count": 25,
   "metadata": {},
   "outputs": [],
   "source": [
    "peacock_df = peacock_df[['userName','review','rating']]"
   ]
  },
  {
   "cell_type": "code",
   "execution_count": 26,
   "metadata": {},
   "outputs": [
    {
     "data": {
      "text/html": [
       "<div>\n",
       "<style scoped>\n",
       "    .dataframe tbody tr th:only-of-type {\n",
       "        vertical-align: middle;\n",
       "    }\n",
       "\n",
       "    .dataframe tbody tr th {\n",
       "        vertical-align: top;\n",
       "    }\n",
       "\n",
       "    .dataframe thead th {\n",
       "        text-align: right;\n",
       "    }\n",
       "</style>\n",
       "<table border=\"1\" class=\"dataframe\">\n",
       "  <thead>\n",
       "    <tr style=\"text-align: right;\">\n",
       "      <th></th>\n",
       "      <th>userName</th>\n",
       "      <th>review</th>\n",
       "      <th>rating</th>\n",
       "    </tr>\n",
       "  </thead>\n",
       "  <tbody>\n",
       "    <tr>\n",
       "      <td>0</td>\n",
       "      <td>Hotwheelsg67</td>\n",
       "      <td>I hate when it occasionally buffers none of my...</td>\n",
       "      <td>2</td>\n",
       "    </tr>\n",
       "    <tr>\n",
       "      <td>1</td>\n",
       "      <td>8432789</td>\n",
       "      <td>I am a day 1 user, waited months for this app ...</td>\n",
       "      <td>3</td>\n",
       "    </tr>\n",
       "    <tr>\n",
       "      <td>2</td>\n",
       "      <td>kevintstephens</td>\n",
       "      <td>The streaming service itself is decent, but th...</td>\n",
       "      <td>1</td>\n",
       "    </tr>\n",
       "    <tr>\n",
       "      <td>3</td>\n",
       "      <td>jbram63</td>\n",
       "      <td>The streaming is okay. Haven’t had issues. I h...</td>\n",
       "      <td>1</td>\n",
       "    </tr>\n",
       "    <tr>\n",
       "      <td>4</td>\n",
       "      <td>Spiritbob67</td>\n",
       "      <td>Ok so is 2020 and you create a streaming app t...</td>\n",
       "      <td>1</td>\n",
       "    </tr>\n",
       "  </tbody>\n",
       "</table>\n",
       "</div>"
      ],
      "text/plain": [
       "         userName                                             review  rating\n",
       "0    Hotwheelsg67  I hate when it occasionally buffers none of my...       2\n",
       "1         8432789  I am a day 1 user, waited months for this app ...       3\n",
       "2  kevintstephens  The streaming service itself is decent, but th...       1\n",
       "3         jbram63  The streaming is okay. Haven’t had issues. I h...       1\n",
       "4     Spiritbob67  Ok so is 2020 and you create a streaming app t...       1"
      ]
     },
     "execution_count": 26,
     "metadata": {},
     "output_type": "execute_result"
    }
   ],
   "source": [
    "peacock_df.head()"
   ]
  },
  {
   "cell_type": "code",
   "execution_count": 27,
   "metadata": {},
   "outputs": [],
   "source": [
    "# Creating a dictionary for each app. Key: username, Value: [review, rating]\n",
    "hbomax_dict = hbomax_df.set_index('userName').T.to_dict('list')\n",
    "hulu_dict = hulu_df.set_index('userName').T.to_dict('list')\n",
    "netflix_dict = netflix_df.set_index('userName').T.to_dict('list')\n",
    "disneyplus_dict = disneyplus_df.set_index('userName').T.to_dict('list')\n",
    "peacock_dict = peacock_df.set_index('userName').T.to_dict('list')"
   ]
  },
  {
   "cell_type": "code",
   "execution_count": 28,
   "metadata": {},
   "outputs": [],
   "source": [
    "# Creating a dictionary of dictionaries\n",
    "full_dict = {}\n",
    "full_dict['hbomax'] = hbomax_dict\n",
    "full_dict['hulu'] = hulu_dict\n",
    "full_dict['netflix'] = netflix_dict\n",
    "full_dict['disneyplus'] = disneyplus_dict\n",
    "full_dict['peacock'] = peacock_dict"
   ]
  },
  {
   "cell_type": "code",
   "execution_count": 29,
   "metadata": {},
   "outputs": [],
   "source": [
    "# In case we want to export dictionary to csv file\n",
    "# full_dict_df = pd.DataFrame(full_dict)\n",
    "# full_dict_df.to_csv('full_dict_df.csv', index = False)"
   ]
  },
  {
   "cell_type": "code",
   "execution_count": null,
   "metadata": {},
   "outputs": [],
   "source": []
  }
 ],
 "metadata": {
  "kernelspec": {
   "display_name": "Python 3",
   "language": "python",
   "name": "python3"
  },
  "language_info": {
   "codemirror_mode": {
    "name": "ipython",
    "version": 3
   },
   "file_extension": ".py",
   "mimetype": "text/x-python",
   "name": "python",
   "nbconvert_exporter": "python",
   "pygments_lexer": "ipython3",
   "version": "3.7.7"
  }
 },
 "nbformat": 4,
 "nbformat_minor": 4
}
